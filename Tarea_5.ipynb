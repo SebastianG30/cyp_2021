{
  "nbformat": 4,
  "nbformat_minor": 0,
  "metadata": {
    "colab": {
      "name": "Tarea 5.ipynb",
      "provenance": [],
      "authorship_tag": "ABX9TyN8uO6idJnWec55Axd99znq",
      "include_colab_link": true
    },
    "kernelspec": {
      "name": "python3",
      "display_name": "Python 3"
    }
  },
  "cells": [
    {
      "cell_type": "markdown",
      "metadata": {
        "id": "view-in-github",
        "colab_type": "text"
      },
      "source": [
        "<a href=\"https://colab.research.google.com/github/SebastianG30/cyp_2021/blob/main/Tarea_5.ipynb\" target=\"_parent\"><img src=\"https://colab.research.google.com/assets/colab-badge.svg\" alt=\"Open In Colab\"/></a>"
      ]
    },
    {
      "cell_type": "code",
      "metadata": {
        "colab": {
          "base_uri": "https://localhost:8080/"
        },
        "id": "z5I7bBTHX6Al",
        "outputId": "49360f0e-582a-469f-b32a-1a446d30ab95"
      },
      "source": [
        "#Ejemplo 3.1 (pagina 109)\n",
        "\n",
        "NOMINA=0\n",
        "for i in range (10):\n",
        "  i=i+1\n",
        "  NOM=float(input(f\"Ingrese el sueldo del empleado: {i}\\n\"))\n",
        "  NOMINA=NOMINA+NOM\n",
        "  print(\"La nomina de la empresa es de $: \",NOMINA)"
      ],
      "execution_count": 2,
      "outputs": [
        {
          "output_type": "stream",
          "text": [
            "Ingrese el sueldo del empleado: 1\n",
            "890\n",
            "La nomina de la empresa es de $:  890.0\n",
            "Ingrese el sueldo del empleado: 2\n",
            "800\n",
            "La nomina de la empresa es de $:  1690.0\n",
            "Ingrese el sueldo del empleado: 3\n",
            "567\n",
            "La nomina de la empresa es de $:  2257.0\n",
            "Ingrese el sueldo del empleado: 4\n",
            "120\n",
            "La nomina de la empresa es de $:  2377.0\n",
            "Ingrese el sueldo del empleado: 5\n",
            "400\n",
            "La nomina de la empresa es de $:  2777.0\n",
            "Ingrese el sueldo del empleado: 6\n",
            "500\n",
            "La nomina de la empresa es de $:  3277.0\n",
            "Ingrese el sueldo del empleado: 7\n",
            "800\n",
            "La nomina de la empresa es de $:  4077.0\n",
            "Ingrese el sueldo del empleado: 8\n",
            "999\n",
            "La nomina de la empresa es de $:  5076.0\n",
            "Ingrese el sueldo del empleado: 9\n",
            "345\n",
            "La nomina de la empresa es de $:  5421.0\n",
            "Ingrese el sueldo del empleado: 10\n",
            "123\n",
            "La nomina de la empresa es de $:  5544.0\n"
          ],
          "name": "stdout"
        }
      ]
    },
    {
      "cell_type": "code",
      "metadata": {
        "colab": {
          "base_uri": "https://localhost:8080/"
        },
        "id": "4QSbj5oyamKB",
        "outputId": "4301bd7e-b9e6-4e84-b3e7-0d876749db42"
      },
      "source": [
        "#Ejemplo 3.4 (pagina 117)\n",
        "\n",
        "MontoTotal=0\n",
        "flag= 1.0\n",
        "while flag>0.0:\n",
        "  aux=float(input(\"El monto es: $\"))\n",
        "  MontoTotal += (aux if aux > 0.0 else 0.0)\n",
        "  flag= aux\n",
        "print(f\"El total de gastos es: ${MontoTotal}\")"
      ],
      "execution_count": 11,
      "outputs": [
        {
          "output_type": "stream",
          "text": [
            "El monto es: $2528\n",
            "El monto es: $3500\n",
            "El monto es: $1600\n",
            "El monto es: $1850\n",
            "El monto es: $150\n",
            "El monto es: $-1\n",
            "El total de gastos es: $9628.0\n"
          ],
          "name": "stdout"
        }
      ]
    }
  ]
}