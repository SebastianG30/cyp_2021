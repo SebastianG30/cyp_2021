{
  "nbformat": 4,
  "nbformat_minor": 0,
  "metadata": {
    "colab": {
      "name": "26_Enero_21.ipynb",
      "provenance": [],
      "authorship_tag": "ABX9TyPbsZ9QjxEFNF64C5c+A8U+",
      "include_colab_link": true
    },
    "kernelspec": {
      "name": "python3",
      "display_name": "Python 3"
    }
  },
  "cells": [
    {
      "cell_type": "markdown",
      "metadata": {
        "id": "view-in-github",
        "colab_type": "text"
      },
      "source": [
        "<a href=\"https://colab.research.google.com/github/SebastianG30/cyp_2021/blob/main/26_Enero_21.ipynb\" target=\"_parent\"><img src=\"https://colab.research.google.com/assets/colab-badge.svg\" alt=\"Open In Colab\"/></a>"
      ]
    },
    {
      "cell_type": "code",
      "metadata": {
        "id": "mo1efrHDs7Jn"
      },
      "source": [
        ""
      ],
      "execution_count": null,
      "outputs": []
    },
    {
      "cell_type": "markdown",
      "metadata": {
        "id": "S83F9aEttJW2"
      },
      "source": [
        "#Listas de Python 3\n",
        "\n",
        "1. Es una estructura de datos lineal de 0 o n elementos.\n",
        "2. \"Equivalentes\" a los arreglos.\n",
        "3. Pueden ser de diferente tipo de dato. [1,2,32,12] , [1, True, 2.34, \"Hola\"]\n",
        "4. Pueden ser anidados, listas de listas. [\"Melon\", [\"manzana roja\",\"Manzana amarilla\"] ]\n",
        "5. Su selector es de la forma: [int]\n",
        "6. Son mutables."
      ]
    },
    {
      "cell_type": "code",
      "metadata": {
        "colab": {
          "base_uri": "https://localhost:8080/"
        },
        "id": "vR-yq_Ysu7vz",
        "outputId": "424f4a25-5f8d-403b-ef10-9f5b1fbf7ef6"
      },
      "source": [
        "# Ejemplos\n",
        "numeros=[4,2,25,45,7,83,3]\n",
        "print(numeros)\n",
        "print(numeros[2])\n",
        "\n",
        "# Una lista de 0 elementos\n",
        "colores=[] # list()\n",
        "type(colores) # averiguar de que tipo de dato es una variable con una función type\n",
        "dias=list()\n",
        "print(colores)\n",
        "print(dias)\n",
        "\n",
        "\n"
      ],
      "execution_count": 4,
      "outputs": [
        {
          "output_type": "stream",
          "text": [
            "[4, 2, 25, 45, 7, 83, 3]\n",
            "25\n",
            "[]\n",
            "[]\n"
          ],
          "name": "stdout"
        }
      ]
    },
    {
      "cell_type": "code",
      "metadata": {
        "colab": {
          "base_uri": "https://localhost:8080/"
        },
        "id": "NHQICG94wMBL",
        "outputId": "e6dc66ad-c926-460b-f892-f55e98af66e5"
      },
      "source": [
        "# Pueden de diferente tipo de datos\n",
        "\n",
        "mi_lista=[1,2,3,\"Jose\",False,1.76, [55234566,44553412432,55667788]]\n",
        "print(mi_lista)\n",
        "print(mi_lista[5])\n",
        "print(mi_lista[6][1])\n",
        "print(mi_lista[3][3])\n",
        "print(mi_lista[3][3::])\n",
        "print(mi_lista[3][-1::1])\n",
        "print(str(mi_lista[6][1])[2])\n"
      ],
      "execution_count": 17,
      "outputs": [
        {
          "output_type": "stream",
          "text": [
            "[1, 2, 3, 'Jose', False, 1.76, [55234566, 44553412432, 55667788]]\n",
            "1.76\n",
            "44553412432\n",
            "e\n",
            "e\n",
            "e\n",
            "5\n"
          ],
          "name": "stdout"
        }
      ]
    },
    {
      "cell_type": "code",
      "metadata": {
        "colab": {
          "base_uri": "https://localhost:8080/"
        },
        "id": "M2KK9QIX0Sdm",
        "outputId": "78e51768-b613-4db8-ab31-e219e67ac51c"
      },
      "source": [
        "frutas=[\"melon\", \"sandia\", \"kiwi\",\"aguacate\",\"Mango\", \"platano\"]\n",
        "print(frutas)\n",
        "frutas[0]=\"Melon\"\n",
        "print(frutas)\n",
        "frutas[1]= frutas[1].capitalize()\n",
        "print(frutas)"
      ],
      "execution_count": 23,
      "outputs": [
        {
          "output_type": "stream",
          "text": [
            "['melon', 'sandia', 'kiwi', 'aguacate', 'Mango', 'platano']\n",
            "['Melon', 'sandia', 'kiwi', 'aguacate', 'Mango', 'platano']\n",
            "['Melon', 'Sandia', 'kiwi', 'aguacate', 'Mango', 'platano']\n"
          ],
          "name": "stdout"
        }
      ]
    },
    {
      "cell_type": "code",
      "metadata": {
        "colab": {
          "base_uri": "https://localhost:8080/"
        },
        "id": "t86qY6ab2LNW",
        "outputId": "e6cd283e-0a08-4718-9c8d-86783ec57dea"
      },
      "source": [
        "# Las listas son clases por lo tanto, tienen metodos.\n",
        "# ejemplo: Append, agrega un elemento al final\n",
        "frutas=[\"melon\", \"sandia\", \"kiwi\",\"aguacate\",\"Mango\", \"platano\"]\n",
        "print(frutas)\n",
        "frutas.append(\"Fresa\")\n",
        "print(frutas)\n",
        "\n",
        "print(\"Ejemplo de copias\")\n",
        "otras_frutas=frutas\n",
        "print(frutas)\n",
        "print(otras_frutas)\n",
        "otras_frutas[0]=\"Chico zapote\"\n",
        "print(otras_frutas)\n",
        "print(\"------------\")\n",
        "\n",
        "\n",
        "print(\"Ejemplo del\")\n",
        "del frutas[2] #operador de listas\n",
        "print(frutas)\n",
        "\n",
        "frutas.clear()\n",
        "print(frutas)\n",
        "\n"
      ],
      "execution_count": 36,
      "outputs": [
        {
          "output_type": "stream",
          "text": [
            "['melon', 'sandia', 'kiwi', 'aguacate', 'Mango', 'platano']\n",
            "['melon', 'sandia', 'kiwi', 'aguacate', 'Mango', 'platano', 'Fresa']\n",
            "Ejemplo de copias\n",
            "['melon', 'sandia', 'kiwi', 'aguacate', 'Mango', 'platano', 'Fresa']\n",
            "['melon', 'sandia', 'kiwi', 'aguacate', 'Mango', 'platano', 'Fresa']\n",
            "['Chico zapote', 'sandia', 'kiwi', 'aguacate', 'Mango', 'platano', 'Fresa']\n",
            "------------\n",
            "Ejemplo del\n",
            "['Chico zapote', 'sandia', 'aguacate', 'Mango', 'platano', 'Fresa']\n",
            "[]\n"
          ],
          "name": "stdout"
        }
      ]
    },
    {
      "cell_type": "code",
      "metadata": {
        "colab": {
          "base_uri": "https://localhost:8080/"
        },
        "id": "2ffsfDTl_CTz",
        "outputId": "213619f3-413c-418b-ff10-ff8aaef5cc21"
      },
      "source": [
        "cosas = [\"jose\",True,2,3,4,5,\"pedro\",1.23]\n",
        "indice = 0\n",
        "a_eliminar=[]\n",
        "for elemento in cosas:\n",
        "    if isinstance( elemento , int ) :\n",
        "        print(\"entero\",elemento) # cosas.remove(elemento)\n",
        "        a_eliminar.append(elemento)\n",
        "    indice += 1\n",
        "\n",
        "print(a_eliminar)\n",
        "for indice in a_eliminar:\n",
        "    print( indice)\n",
        "    cosas.remove(indice)\n",
        "print(cosas)\n"
      ],
      "execution_count": 40,
      "outputs": [
        {
          "output_type": "stream",
          "text": [
            "entero True\n",
            "entero 2\n",
            "entero 3\n",
            "entero 4\n",
            "entero 5\n",
            "[True, 2, 3, 4, 5]\n",
            "True\n",
            "2\n",
            "3\n",
            "4\n",
            "5\n",
            "['jose', 'pedro', 1.23]\n"
          ],
          "name": "stdout"
        }
      ]
    },
    {
      "cell_type": "code",
      "metadata": {
        "colab": {
          "base_uri": "https://localhost:8080/"
        },
        "id": "eDSUZcbB2Pox",
        "outputId": "bc1147e3-d002-445b-9b7f-6e944c3b8f55"
      },
      "source": [
        "help(frutas)"
      ],
      "execution_count": 24,
      "outputs": [
        {
          "output_type": "stream",
          "text": [
            "Help on list object:\n",
            "\n",
            "class list(object)\n",
            " |  list() -> new empty list\n",
            " |  list(iterable) -> new list initialized from iterable's items\n",
            " |  \n",
            " |  Methods defined here:\n",
            " |  \n",
            " |  __add__(self, value, /)\n",
            " |      Return self+value.\n",
            " |  \n",
            " |  __contains__(self, key, /)\n",
            " |      Return key in self.\n",
            " |  \n",
            " |  __delitem__(self, key, /)\n",
            " |      Delete self[key].\n",
            " |  \n",
            " |  __eq__(self, value, /)\n",
            " |      Return self==value.\n",
            " |  \n",
            " |  __ge__(self, value, /)\n",
            " |      Return self>=value.\n",
            " |  \n",
            " |  __getattribute__(self, name, /)\n",
            " |      Return getattr(self, name).\n",
            " |  \n",
            " |  __getitem__(...)\n",
            " |      x.__getitem__(y) <==> x[y]\n",
            " |  \n",
            " |  __gt__(self, value, /)\n",
            " |      Return self>value.\n",
            " |  \n",
            " |  __iadd__(self, value, /)\n",
            " |      Implement self+=value.\n",
            " |  \n",
            " |  __imul__(self, value, /)\n",
            " |      Implement self*=value.\n",
            " |  \n",
            " |  __init__(self, /, *args, **kwargs)\n",
            " |      Initialize self.  See help(type(self)) for accurate signature.\n",
            " |  \n",
            " |  __iter__(self, /)\n",
            " |      Implement iter(self).\n",
            " |  \n",
            " |  __le__(self, value, /)\n",
            " |      Return self<=value.\n",
            " |  \n",
            " |  __len__(self, /)\n",
            " |      Return len(self).\n",
            " |  \n",
            " |  __lt__(self, value, /)\n",
            " |      Return self<value.\n",
            " |  \n",
            " |  __mul__(self, value, /)\n",
            " |      Return self*value.\n",
            " |  \n",
            " |  __ne__(self, value, /)\n",
            " |      Return self!=value.\n",
            " |  \n",
            " |  __new__(*args, **kwargs) from builtins.type\n",
            " |      Create and return a new object.  See help(type) for accurate signature.\n",
            " |  \n",
            " |  __repr__(self, /)\n",
            " |      Return repr(self).\n",
            " |  \n",
            " |  __reversed__(...)\n",
            " |      L.__reversed__() -- return a reverse iterator over the list\n",
            " |  \n",
            " |  __rmul__(self, value, /)\n",
            " |      Return value*self.\n",
            " |  \n",
            " |  __setitem__(self, key, value, /)\n",
            " |      Set self[key] to value.\n",
            " |  \n",
            " |  __sizeof__(...)\n",
            " |      L.__sizeof__() -- size of L in memory, in bytes\n",
            " |  \n",
            " |  append(...)\n",
            " |      L.append(object) -> None -- append object to end\n",
            " |  \n",
            " |  clear(...)\n",
            " |      L.clear() -> None -- remove all items from L\n",
            " |  \n",
            " |  copy(...)\n",
            " |      L.copy() -> list -- a shallow copy of L\n",
            " |  \n",
            " |  count(...)\n",
            " |      L.count(value) -> integer -- return number of occurrences of value\n",
            " |  \n",
            " |  extend(...)\n",
            " |      L.extend(iterable) -> None -- extend list by appending elements from the iterable\n",
            " |  \n",
            " |  index(...)\n",
            " |      L.index(value, [start, [stop]]) -> integer -- return first index of value.\n",
            " |      Raises ValueError if the value is not present.\n",
            " |  \n",
            " |  insert(...)\n",
            " |      L.insert(index, object) -- insert object before index\n",
            " |  \n",
            " |  pop(...)\n",
            " |      L.pop([index]) -> item -- remove and return item at index (default last).\n",
            " |      Raises IndexError if list is empty or index is out of range.\n",
            " |  \n",
            " |  remove(...)\n",
            " |      L.remove(value) -> None -- remove first occurrence of value.\n",
            " |      Raises ValueError if the value is not present.\n",
            " |  \n",
            " |  reverse(...)\n",
            " |      L.reverse() -- reverse *IN PLACE*\n",
            " |  \n",
            " |  sort(...)\n",
            " |      L.sort(key=None, reverse=False) -> None -- stable sort *IN PLACE*\n",
            " |  \n",
            " |  ----------------------------------------------------------------------\n",
            " |  Data and other attributes defined here:\n",
            " |  \n",
            " |  __hash__ = None\n",
            "\n"
          ],
          "name": "stdout"
        }
      ]
    },
    {
      "cell_type": "code",
      "metadata": {
        "colab": {
          "base_uri": "https://localhost:8080/"
        },
        "id": "ezRXpTgoFMGs",
        "outputId": "47e88bc6-c77c-4bde-c458-e496f0994b07"
      },
      "source": [
        "# Slicing sobre listas\n",
        "\n",
        "frutas=[\"melon\",\"sandia\",\"kiwi\",\"mango\",\"platano\"]\n",
        "\n",
        "print(frutas[1:4:])\n",
        "\n",
        "\n",
        "sistemas_operativos=[\"Windows\",\"mac os\",\"Linux\",\"Android\"]\n",
        "autos=[\"Ford\",\"mazda\",\"Honda\"]\n",
        "\n",
        "cosas=[sistemas_operativos,autos]\n",
        "print(cosas)\n",
        "print(cosas[1])\n",
        "print(cosas[0][2])\n",
        "print(cosas[0][3][2:5:1])\n",
        "print(cosas[0][3][-2:-5:-1])"
      ],
      "execution_count": 53,
      "outputs": [
        {
          "output_type": "stream",
          "text": [
            "['sandia', 'kiwi', 'mango']\n",
            "[['Windows', 'mac os', 'Linux', 'Android'], ['Ford', 'mazda', 'Honda']]\n",
            "['Ford', 'mazda', 'Honda']\n",
            "Linux\n",
            "dro\n"
          ],
          "name": "stdout"
        }
      ]
    }
  ]
}