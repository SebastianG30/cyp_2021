{
  "nbformat": 4,
  "nbformat_minor": 0,
  "metadata": {
    "colab": {
      "name": "1_12_2020.ipynb",
      "provenance": [],
      "authorship_tag": "ABX9TyNXPgLgtr9Z1QFOE7UgVGdd",
      "include_colab_link": true
    },
    "kernelspec": {
      "name": "python3",
      "display_name": "Python 3"
    }
  },
  "cells": [
    {
      "cell_type": "markdown",
      "metadata": {
        "id": "view-in-github",
        "colab_type": "text"
      },
      "source": [
        "<a href=\"https://colab.research.google.com/github/SebastianG30/cyp_2021/blob/main/1_12_2020.ipynb\" target=\"_parent\"><img src=\"https://colab.research.google.com/assets/colab-badge.svg\" alt=\"Open In Colab\"/></a>"
      ]
    },
    {
      "cell_type": "code",
      "metadata": {
        "colab": {
          "base_uri": "https://localhost:8080/"
        },
        "id": "SdcJRZL3tYW_",
        "outputId": "38cb81fb-8627-4e06-f7d5-66af31795934"
      },
      "source": [
        "#Ejemplo 1\n",
        "#Pedir 3 numeros enteros y se debe de mostrar el mayor de los tres\n",
        "\n",
        "num1 = int(input(\"Dame el numero 1: \"))\n",
        "num2 = int(input(\"Dame el numero 2: \"))\n",
        "num3 = int(input(\"Dame el numero 3: \"))\n",
        "\n",
        "if num1 > num2 and num1 > num3:\n",
        "  print(\"El numero mayor es: \", num1)\n",
        "elif num2 > num3:\n",
        "  print(\"El numero mayor es: \", num2)\n",
        "else:\n",
        "  print(\"El numero mayor es: \", num3)"
      ],
      "execution_count": 1,
      "outputs": [
        {
          "output_type": "stream",
          "text": [
            "Dame el numero 1: 9\n",
            "Dame el numero 2: 6\n",
            "Dame el numero 3: 88\n",
            "El numero mayor es:  88\n"
          ],
          "name": "stdout"
        }
      ]
    },
    {
      "cell_type": "code",
      "metadata": {
        "colab": {
          "base_uri": "https://localhost:8080/"
        },
        "id": "b8HZddY9tcz1",
        "outputId": "78c9e10b-b866-4248-cc38-61b3ca4a6e57"
      },
      "source": [
        "#Ejemplo 2\n",
        "print(\"Ingrese el nombre del trabajador\")\n",
        "nombre=str (input())\n",
        "print(\"¿Cuantas horas trabajo esta semana?\",nombre,\":\" )\n",
        "horas=int (input())\n",
        "print(\"¿Cuanto se le paga por hora?:\")\n",
        "sueldoH= float (input())\n",
        "\n",
        "#Evaluar su sueldo\n",
        "\n",
        "if (horas<=40):\n",
        "  pago = horas*sueldoH\n",
        "  print(nombre,\"Su pago total es de $\",pago)\n",
        "\n",
        "else:\n",
        "  extras = horas - 40\n",
        "  pago = 40*sueldoH\n",
        "  pagoFinal = pago + ((extras * sueldoH)*2)\n",
        "  print(nombre,\"Su pago total es de $\",pagoFinal)"
      ],
      "execution_count": 2,
      "outputs": [
        {
          "output_type": "stream",
          "text": [
            "Ingrese el nombre del trabajador\n",
            "Juan\n",
            "¿Cuantas horas trabajo esta semana? Juan :\n",
            "8\n",
            "¿Cuanto se le paga por hora?:\n",
            "600\n",
            "Juan Su pago total es de $ 4800.0\n"
          ],
          "name": "stdout"
        }
      ]
    },
    {
      "cell_type": "code",
      "metadata": {
        "colab": {
          "base_uri": "https://localhost:8080/"
        },
        "id": "Z8_J_llmtfXl",
        "outputId": "5e4baa42-ef0f-4847-f78b-5189b5b65f80"
      },
      "source": [
        "#Ejemplo 3\n",
        "#Calcular el salario semanal de x trabajador\n",
        "#El salario semanal se calcula en base a las horas semanales trabajadas\n",
        "#El pago por hora es variable (se pide por teclado)\n",
        "#Si las horas trabajadas superan las 40 horas, el pago por hora extra es:\n",
        "#Doble en el rango de 41horas a 50horas\n",
        "#Triple en el rango de 51horas a 60 horas\n",
        "#Incentivo de $2000 si rebasa las 60 horas.\n",
        "\n",
        "print(\"Ingrese el nombre del trabajador\")\n",
        "nombre=str (input())\n",
        "print(\"¿Cuantas horas trabajo esta semana?\",nombre,\":\" )\n",
        "horas=int (input())\n",
        "print(\"¿Cuanto se le paga por hora?:\")\n",
        "sueldoH= float (input())\n",
        "\n",
        "#Evaluar el sueldo\n",
        "\n",
        "if (horas<=40):\n",
        "  pago=horas*sueldoH\n",
        "  print(nombre, \"su sueldo final es de $\",pago,\"\\n\")\n",
        "\n",
        "elif ((horas>=41)and(horas<=50)):\n",
        "  extrasDobles = horas-40\n",
        "  print(\"Horas extras dobles:\",extrasDobles)\n",
        "  pago=40*sueldoH\n",
        "  print(\"Sueldo base: $\",pago)\n",
        "  pagoDoble=extrasDobles*(sueldoH*2)\n",
        "  print(\"Pago de horas dobles: $\",pagoDoble)\n",
        "  pagoFinal=pagoDoble+pago\n",
        "  print(nombre, \",su sueldo total es de $\",pagoFinal)\n",
        "\n",
        "elif (horas >50 and horas <=60):\n",
        "  extrasTriples=horas-50\n",
        "  print(\"horas extra dobles:10\")\n",
        "  print(\"horas extra triples:\",extrasTriples)\n",
        "  pago= 40* sueldoH\n",
        "  print(\"sueldo base:$\", pago)\n",
        "  pagoDoble=10*sueldoH*2\n",
        "  print(\"pago de horas extras dobles:\", pagoDoble)\n",
        "  pagoTriple=extrasTriples *sueldoH *3\n",
        "  print(\"pago de horas extra triples:\" ,pagoTriple)\n",
        "  pagoFinal=pago + pagoDoble+ pagoTriple\n",
        "  print(\"El sueldo Final de : \" ,nombre , \"Es $\", pagoFinal)"
      ],
      "execution_count": 3,
      "outputs": [
        {
          "output_type": "stream",
          "text": [
            "Ingrese el nombre del trabajador\n",
            "Pancho\n",
            "¿Cuantas horas trabajo esta semana? Pancho :\n",
            "6\n",
            "¿Cuanto se le paga por hora?:\n",
            "300\n",
            "Pancho su sueldo final es de $ 1800.0 \n",
            "\n"
          ],
          "name": "stdout"
        }
      ]
    },
    {
      "cell_type": "code",
      "metadata": {
        "colab": {
          "base_uri": "https://localhost:8080/"
        },
        "id": "-1wTzeDAti1d",
        "outputId": "7e0dff1c-e034-40b6-96c9-9df164e49ccd"
      },
      "source": [
        "#Ejemplo 4\n",
        "print(\"Ingrese el nombre del trabjador\")\n",
        "nombre=input()\n",
        "print(\"Cuantas horas trabajo esta semana\", nombre, \":\")\n",
        "horas=int(input())\n",
        "print(\"Cuanto se paga por hora?:\")\n",
        "sueldoH=float(input())\n",
        "\n",
        "#Evaluar el sueldo\n",
        "\n",
        "if(horas<=40):\n",
        "  pago=horas*sueldoH\n",
        "  print(\"El sueldo de\",nombre,\"es $\", pago)\n",
        "\n",
        "elif(horas>40 and horas <=50):\n",
        "  extrasDobles=horas-40\n",
        "  print(\"Horas extras:\",extrasDobles)\n",
        "  pago=40*sueldoH\n",
        "  print(\"Sueldo $\", pago)\n",
        "  pagoDoble=extrasDobles*sueldoH*2\n",
        "  print(\"pago de horas dobles $\", pagoDoble)\n",
        "  pagoFinal=pago+pagoDoble\n",
        "  print(\"El sueldo de\",nombre,\"es $\", pagoFinal)\n",
        "\n",
        "elif ((horas>=51 and horas <=60 )):\n",
        "    extrasTriples=horas-50\n",
        "    print(\"horas extra dobles:10\")\n",
        "    print(\"horas extra triples:\", extrasTriples)\n",
        "    pago=40*sueldoH\n",
        "    print(\"sueldo base: $\", pago)\n",
        "    pagoDoble=10*sueldoH*2\n",
        "    print(\"pago de horas extras dobles:\", pagoDoble)\n",
        "    pagoTriple=extrasTriples*sueldoH*3\n",
        "    print(\"pago de horas extra triples:\" ,pagoTriple)\n",
        "    pagoFinal=pago+pagoDoble+pagoTriple\n",
        "    print(\"El sueldo de\",nombre,\"es $\", pagoFinal)"
      ],
      "execution_count": 4,
      "outputs": [
        {
          "output_type": "stream",
          "text": [
            "Ingrese el nombre del trabjador\n",
            "Pepe\n",
            "Cuantas horas trabajo esta semana Pepe :\n",
            "12\n",
            "Cuanto se paga por hora?:\n",
            "900\n",
            "El sueldo de Pepe es $ 10800.0\n"
          ],
          "name": "stdout"
        }
      ]
    },
    {
      "cell_type": "code",
      "metadata": {
        "colab": {
          "base_uri": "https://localhost:8080/"
        },
        "id": "d-Z0JJmdtlSF",
        "outputId": "39c58fd7-e128-4def-993c-2eabc07ca0da"
      },
      "source": [
        "#Estructura FOR\n",
        "\n",
        "#Ejemplo 1\n",
        "\n",
        "for estaciones_año in[\"Primavera\",\"Verano\",\"Otoño\",\"Invierno\",\"Venus\"]:\n",
        "  print(estaciones_año)\n",
        "\n",
        "  #Variables que suelen formar parte de FOR son \"i\""
      ],
      "execution_count": 5,
      "outputs": [
        {
          "output_type": "stream",
          "text": [
            "Primavera\n",
            "Verano\n",
            "Otoño\n",
            "Invierno\n",
            "Venus\n"
          ],
          "name": "stdout"
        }
      ]
    }
  ]
}