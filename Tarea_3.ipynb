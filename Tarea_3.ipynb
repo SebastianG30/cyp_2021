{
  "nbformat": 4,
  "nbformat_minor": 0,
  "metadata": {
    "colab": {
      "name": "Tarea 3.ipynb",
      "provenance": [],
      "authorship_tag": "ABX9TyOXlWtSFzswRbV54lm9Gy3O",
      "include_colab_link": true
    },
    "kernelspec": {
      "name": "python3",
      "display_name": "Python 3"
    }
  },
  "cells": [
    {
      "cell_type": "markdown",
      "metadata": {
        "id": "view-in-github",
        "colab_type": "text"
      },
      "source": [
        "<a href=\"https://colab.research.google.com/github/SebastianG30/cyp_2021/blob/main/Tarea_3.ipynb\" target=\"_parent\"><img src=\"https://colab.research.google.com/assets/colab-badge.svg\" alt=\"Open In Colab\"/></a>"
      ]
    },
    {
      "cell_type": "code",
      "metadata": {
        "colab": {
          "base_uri": "https://localhost:8080/"
        },
        "id": "-zoBWb0urG4b",
        "outputId": "da521f1a-0554-4da9-b198-75fe79ffd77c"
      },
      "source": [
        "#Problema 1.1\n",
        "\n",
        "PREPRO=0\n",
        "PAGO=0\n",
        "DEVO=0\n",
        "\n",
        "PREPRO=float(input(\"El precio del producto es: $\"))\n",
        "PAGO=float(input(\"Cantidad con la que se paga: $\"))\n",
        "DEVO=(PAGO-PREPRO)\n",
        "print(\"Su cambio es: $\",DEVO)"
      ],
      "execution_count": 21,
      "outputs": [
        {
          "output_type": "stream",
          "text": [
            "El precio del producto es: $86.25\n",
            "Cantidad con la que se paga: $100\n",
            "Su cambio es: $ 13.75\n"
          ],
          "name": "stdout"
        }
      ]
    },
    {
      "cell_type": "code",
      "metadata": {
        "colab": {
          "base_uri": "https://localhost:8080/"
        },
        "id": "WUINf3DbuAtW",
        "outputId": "94ec0a96-612a-4f73-92eb-8fa76929ebec"
      },
      "source": [
        "#Problema 1.2\n",
        "\n",
        "BASE=0\n",
        "AlTURA=0\n",
        "SUP=0\n",
        "\n",
        "BASE=float(input(\"Indica el numero de la base del triángulo: \"))\n",
        "ALTURA=float(input(\"Indica el numero de la altura del triángulo: \"))\n",
        "\n",
        "SUP=(BASE*ALTURA)/2\n",
        "print(\"La superficie de este triángulo es: \",SUP)"
      ],
      "execution_count": 20,
      "outputs": [
        {
          "output_type": "stream",
          "text": [
            "Indica el numero de la base del triángulo: 8.50\n",
            "Indica el numero de la altura del triángulo: 7.20\n",
            "La superficie de este triángulo es:  30.6\n"
          ],
          "name": "stdout"
        }
      ]
    },
    {
      "cell_type": "code",
      "metadata": {
        "colab": {
          "base_uri": "https://localhost:8080/"
        },
        "id": "wPs8qoB7vPdD",
        "outputId": "ccbcb8c1-8a92-4ffb-8e58-874edcb5c209"
      },
      "source": [
        "#Problema 1.3\n",
        "\n",
        "NOM=0\n",
        "PES=0\n",
        "LON=0\n",
        "PESKIL=0\n",
        "LONMET=0\n",
        "\n",
        "NOM=input(\"Cual es el nombre del dinosaurio: \")\n",
        "PES=float(input(\"Indica la cantidad del peso: \"))\n",
        "LON=float(input(\"Indica la catidad de la longitud: \"))\n",
        "\n",
        "PESKIL=(PES*1000)\n",
        "LONMET=(LON* 0.3047)\n",
        "print(\"El nombre del dinosaurio es: \",NOM)\n",
        "print(\"El peso en kilogramos del dinosaurio es: \",PESKIL)\n",
        "print(\"La longitud en metros del dinosaurio es: \",LONMET)"
      ],
      "execution_count": 32,
      "outputs": [
        {
          "output_type": "stream",
          "text": [
            "Cual es el nombre del dinosaurio: Diplojocus\n",
            "Indica la cantidad del peso: 15\n",
            "Indica la catidad de la longitud: 90\n",
            "El nombre del dinosaurio es:  Diplojocus\n",
            "El peso en kilogramos del dinosaurio es:  15000.0\n",
            "La longitud en metros del dinosaurio es:  27.423000000000002\n"
          ],
          "name": "stdout"
        }
      ]
    },
    {
      "cell_type": "code",
      "metadata": {
        "colab": {
          "base_uri": "https://localhost:8080/"
        },
        "id": "GJ0p2X-z1lBu",
        "outputId": "e52f2f0c-e82c-4cb5-8976-34c155a7ebcf"
      },
      "source": [
        "#Problema 1.4\n",
        "\n",
        "GAL=0\n",
        "TOTAL=0\n",
        "\n",
        "GAL=float(input(\"Cantidad de galón: \"))\n",
        "\n",
        "TOTAL=(GAL*3.785*8.20)\n",
        "print(\"El total a pagar es: \",TOTAL)"
      ],
      "execution_count": 35,
      "outputs": [
        {
          "output_type": "stream",
          "text": [
            "Cantidad de galón: 10.38\n",
            "El total a pagar es:  322.16406\n"
          ],
          "name": "stdout"
        }
      ]
    },
    {
      "cell_type": "code",
      "metadata": {
        "colab": {
          "base_uri": "https://localhost:8080/"
        },
        "id": "jy86qqcr3Jn6",
        "outputId": "de9da3b8-614a-499a-819e-304e3c76230f"
      },
      "source": [
        "#Problema 1.5\n",
        "\n",
        "RADIO=0\n",
        "ALTURA=0\n",
        "VOLUMEN=0\n",
        "AREA=0\n",
        "\n",
        "RADIO=float(input(\"Cantidad del radio del cilindro: \"))\n",
        "ALTURA=float(input(\"Cantidad de la altura del cilindro: \"))\n",
        "\n",
        "VOLUMEN=3.141592*(RADIO**2)*ALTURA\n",
        "AREA=2*3.141592*RADIO*ALTURA\n",
        "\n",
        "print(\"El volumen del cilindro es: \",VOLUMEN)\n",
        "print(\"El area del cilindro es: \",AREA)"
      ],
      "execution_count": 37,
      "outputs": [
        {
          "output_type": "stream",
          "text": [
            "Cantidad del radio del cilindro: 45.22\n",
            "Cantidad de la altura del cilindro: 11.60\n",
            "El volumen del cilindro es:  74519.32074597248\n",
            "El area del cilindro es:  3295.856733568\n"
          ],
          "name": "stdout"
        }
      ]
    },
    {
      "cell_type": "code",
      "metadata": {
        "colab": {
          "base_uri": "https://localhost:8080/"
        },
        "id": "Tp4ZPfe-5fgB",
        "outputId": "83be15ba-a0f4-4ff2-aacc-a1c3cfa6b694"
      },
      "source": [
        "#Problema 1.6\n",
        "\n",
        "DIAS=0\n",
        "SEGUNDOS=0\n",
        "\n",
        "DIAS=int(input(\"Escriba la cantidad de días: \"))\n",
        "\n",
        "SEGUNDOS=DIAS*24*60*60\n",
        "print(\"En: \",DIAS,\"dias, hay\",SEGUNDOS,\"segundos\")"
      ],
      "execution_count": 40,
      "outputs": [
        {
          "output_type": "stream",
          "text": [
            "Escriba la cantidad de días: 7\n",
            "En:  7 dias, hay 604800 segundos\n"
          ],
          "name": "stdout"
        }
      ]
    }
  ]
}