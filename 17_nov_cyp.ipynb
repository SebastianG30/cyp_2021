{
  "nbformat": 4,
  "nbformat_minor": 0,
  "metadata": {
    "colab": {
      "name": "17_nov_cyp.ipynb",
      "provenance": [],
      "authorship_tag": "ABX9TyPnsXfzR/Kvu3Ik4raJotzR",
      "include_colab_link": true
    },
    "kernelspec": {
      "name": "python3",
      "display_name": "Python 3"
    }
  },
  "cells": [
    {
      "cell_type": "markdown",
      "metadata": {
        "id": "view-in-github",
        "colab_type": "text"
      },
      "source": [
        "<a href=\"https://colab.research.google.com/github/SebastianG30/cyp_2021/blob/main/17_nov_cyp.ipynb\" target=\"_parent\"><img src=\"https://colab.research.google.com/assets/colab-badge.svg\" alt=\"Open In Colab\"/></a>"
      ]
    },
    {
      "cell_type": "code",
      "metadata": {
        "colab": {
          "base_uri": "https://localhost:8080/"
        },
        "id": "tRvnPwLvSL1A",
        "outputId": "9d03745c-f5ba-4790-d7f8-552d2c56dc9f"
      },
      "source": [
        "edad= 15\n",
        "estatura= 1.67\n",
        "a= 10\n",
        "b=3\n",
        "\n",
        "c= 2**b+2+3\n",
        "\n",
        "print (c)\n",
        "\n",
        "e= estatura * 2.0\n",
        "print(e)\n",
        "\n",
        "f= a/b #en python se hace el calculo exacto\n",
        "print(f) #3.333\n",
        "\n",
        "# tambien podemos forzar al calculo de enteros\n",
        "g=a//b\n",
        "print(\"g=\",g)\n",
        "\n",
        "h= a%b\n",
        "print(\"h=\",h)\n",
        "\n",
        "num=10\n",
        "print(\"Es par num ?\", (num%2) ==0)"
      ],
      "execution_count": 9,
      "outputs": [
        {
          "output_type": "stream",
          "text": [
            "13\n",
            "3.34\n",
            "3.3333333333333335\n",
            "g= 3\n",
            "h= 1\n",
            "Es par num ? True\n"
          ],
          "name": "stdout"
        }
      ]
    },
    {
      "cell_type": "code",
      "metadata": {
        "colab": {
          "base_uri": "https://localhost:8080/"
        },
        "id": "8zdmn28XW5B_",
        "outputId": "ef9e7ba8-7fd4-4675-bc2b-d9ba330d4c24"
      },
      "source": [
        "ecuacion= 9+7*8-36/5\n",
        "print(ecuacion)\n",
        "\n",
        "ecuacion=0\n",
        "ecuacion=(9+7)*8-36/5# 128-7.2\n",
        "print(ecuacion)\n",
        "\n",
        "ecuacion=9+7*(8-36)/5 #\n",
        "print(ecuacion)"
      ],
      "execution_count": 14,
      "outputs": [
        {
          "output_type": "stream",
          "text": [
            "57.8\n",
            "120.8\n",
            "-30.200000000000003\n"
          ],
          "name": "stdout"
        }
      ]
    },
    {
      "cell_type": "code",
      "metadata": {
        "colab": {
          "base_uri": "https://localhost:8080/"
        },
        "id": "hHiOQbqtb3nU",
        "outputId": "1137c399-464d-4325-8571-22b42ac430cd"
      },
      "source": [
        "#operadores logicos\n",
        "\n",
        "x=5\n",
        "y=4\n",
        "\n",
        "valor= (x ==y) #Son iguales?? --> Falso\n",
        "print(valor)\n",
        "\n",
        "valor=(x !=y) #Son diferentes?? -->Verdadero\n",
        "print(valor)\n",
        "\n",
        "valor=(x<y) #Es menor que y?? Falso\n",
        "print(valor)\n",
        "\n",
        "valor=(x>y) # x Es mayor que y?? Falso\n",
        "print(valor)\n",
        "\n",
        "y=5\n",
        "valor=(x<=y) # x Es menor o igual que y?? True\n",
        "print(valor)\n",
        "\n",
        "\n",
        "valor=(x>=y) # x Es mayor o igual que y?? True\n",
        "print(valor)"
      ],
      "execution_count": 21,
      "outputs": [
        {
          "output_type": "stream",
          "text": [
            "False\n",
            "True\n",
            "False\n",
            "True\n",
            "True\n",
            "True\n"
          ],
          "name": "stdout"
        }
      ]
    },
    {
      "cell_type": "code",
      "metadata": {
        "colab": {
          "base_uri": "https://localhost:8080/"
        },
        "id": "eITn1bwCfiPg",
        "outputId": "4902353f-020d-4ff1-cc43-3fdb9a87ecb9"
      },
      "source": [
        "costo_chetos=7.0\n",
        "tienda_abierta=True\n",
        "capital_en_bolsa=10.0\n",
        "\n",
        "se_compra= (costo_chetos < capital_en_bolsa) and (tienda_abierta == True)\n",
        "print(se_compra)"
      ],
      "execution_count": 25,
      "outputs": [
        {
          "output_type": "stream",
          "text": [
            "True\n"
          ],
          "name": "stdout"
        }
      ]
    }
  ]
}