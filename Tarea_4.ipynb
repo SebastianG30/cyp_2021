{
  "nbformat": 4,
  "nbformat_minor": 0,
  "metadata": {
    "colab": {
      "name": "Tarea 4.ipynb",
      "provenance": [],
      "authorship_tag": "ABX9TyMJBvvflaZcPuvd5aF6D4xK",
      "include_colab_link": true
    },
    "kernelspec": {
      "name": "python3",
      "display_name": "Python 3"
    }
  },
  "cells": [
    {
      "cell_type": "markdown",
      "metadata": {
        "id": "view-in-github",
        "colab_type": "text"
      },
      "source": [
        "<a href=\"https://colab.research.google.com/github/SebastianG30/cyp_2021/blob/main/Tarea_4.ipynb\" target=\"_parent\"><img src=\"https://colab.research.google.com/assets/colab-badge.svg\" alt=\"Open In Colab\"/></a>"
      ]
    },
    {
      "cell_type": "code",
      "metadata": {
        "colab": {
          "base_uri": "https://localhost:8080/"
        },
        "id": "FpZvGAeKZk4p",
        "outputId": "a023ad05-ad8c-4407-c640-99f7108f1552"
      },
      "source": [
        "#Ejericio 2.4\n",
        "\n",
        "SUE=0\n",
        "NSUE=0\n",
        "\n",
        "SUE= float(input(\"Cantidad de sueldo del trabajador: \"))\n",
        "\n",
        "if SUE<1000:\n",
        "  NSUE= SUE*1.15\n",
        "  print(f\"El nuevo sueldo es: ${NSUE}\")\n",
        "else:\n",
        "    NSUE= SUE*1.12\n",
        "    print(f\"El nuevo sueldo es: ${NSUE}\")"
      ],
      "execution_count": 81,
      "outputs": [
        {
          "output_type": "stream",
          "text": [
            "Cantidad de sueldo del trabajador: 840.50\n",
            "El nuevo sueldo es: $966.5749999999999\n"
          ],
          "name": "stdout"
        }
      ]
    },
    {
      "cell_type": "code",
      "metadata": {
        "colab": {
          "base_uri": "https://localhost:8080/"
        },
        "id": "VlkAs1d2aCzI",
        "outputId": "6ef32fde-c1af-40c9-a154-b7c69e452708"
      },
      "source": [
        "#Ejercicio 2.8\n",
        "\n",
        "CATE=0\n",
        "SUE=0\n",
        "NSUE=0\n",
        "\n",
        "CATE=int(input(\"Categoria: \"))\n",
        "NSUE=float(input(\"Salario: \"))\n",
        "\n",
        "if NSUE<0:\n",
        "  print(\"No puede haber salarios negativos\")\n",
        "else:\n",
        "  if CATE>0 and CATE<5:\n",
        "    if CATE==1:\n",
        "      NSUE*=1.15\n",
        "    elif CATE==2:\n",
        "      NSUE*=1.1\n",
        "    elif CATE==3:\n",
        "      NSUE*=1.08\n",
        "    else:\n",
        "      NSUE*=1.07\n",
        "    print(f\"El salario total para un empleado categoria{CATE} es ${NSUE}\")\n",
        "  else:\n",
        "      print(f\"No existe la categoria {CATE}.\")"
      ],
      "execution_count": 32,
      "outputs": [
        {
          "output_type": "stream",
          "text": [
            "Categoria: 1\n",
            "Salario: 1100\n",
            "El salario total para un empleado categoria1 es $1265.0\n"
          ],
          "name": "stdout"
        }
      ]
    }
  ]
}