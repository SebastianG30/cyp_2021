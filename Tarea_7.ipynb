{
  "nbformat": 4,
  "nbformat_minor": 0,
  "metadata": {
    "colab": {
      "name": "Tarea 7.ipynb",
      "provenance": [],
      "authorship_tag": "ABX9TyPEx0/e9y0OCTFj2NglVoe2",
      "include_colab_link": true
    },
    "kernelspec": {
      "name": "python3",
      "display_name": "Python 3"
    }
  },
  "cells": [
    {
      "cell_type": "markdown",
      "metadata": {
        "id": "view-in-github",
        "colab_type": "text"
      },
      "source": [
        "<a href=\"https://colab.research.google.com/github/SebastianG30/cyp_2021/blob/main/Tarea_7.ipynb\" target=\"_parent\"><img src=\"https://colab.research.google.com/assets/colab-badge.svg\" alt=\"Open In Colab\"/></a>"
      ]
    },
    {
      "cell_type": "code",
      "metadata": {
        "colab": {
          "base_uri": "https://localhost:8080/"
        },
        "id": "ZlDISw4IEIKI",
        "outputId": "381e8a4c-3792-49d8-e213-3f1536ff9b5d"
      },
      "source": [
        "#Problema 4.11\n",
        "\n",
        "total=int(input(\"¿Cuántos países serán?: \"))\n",
        "\n",
        "qnorte,qcentro,qsur,aux,aux2=0, 0, 0, 0, 0\n",
        "while True:\n",
        "  qnorte=int(input(\"¿Cuántos países serán de el Norte de América?: \"))\n",
        "  qcentro=int(input(\"¿Cuántos países serán de el Centro de América?: \"))\n",
        "  qsur=int(input(\"¿Cuántos países serán de el Sur de América?: \"))\n",
        "  aux=qnorte+qcentro+qsur\n",
        "\n",
        "  if aux == total:\n",
        "    break;\n",
        "  elif aux < total:\n",
        "    print(\"La cantidad de países ingresada por regiones es menor a la total.\")\n",
        "  elif aux > total:\n",
        "    print(\"La cantidad de países ingresada por regiones es mayor a la total.\")\n",
        "\n",
        "lpaises=[\"Norte\", \"Centro\", \"Sur\"]\n",
        "aux=0\n",
        "pnorte=[str(0) for x in range(qnorte)]\n",
        "pcentro=[str(0) for x in range(qcentro)]\n",
        "psur=[str(0) for x in range(qsur)]\n",
        "ptotal=[str(0) for x in range(total)]\n",
        "\n",
        "for i in range(total):\n",
        "  ptotal[i]=str(input(f\"Ingresa el nombre del país n°{aux+1} para la región del {lpaises[aux2]} de América: \"))\n",
        "\n",
        "  aux+=1\n",
        "  if aux2==0:\n",
        "    if aux>=qnorte:\n",
        "      aux=0\n",
        "      aux2=1\n",
        "    pnorte[aux]=ptotal[i]\n",
        "  elif aux2==1:\n",
        "    if aux>=qcentro:\n",
        "      aux=0\n",
        "      aux2=2\n",
        "    pcentro[aux]=ptotal[i]\n",
        "  elif aux2==2:\n",
        "    if aux>=qsur:\n",
        "      aux=0\n",
        "    psur[aux]=ptotal[i]\n",
        "\n",
        "print(f\"Norte: {sorted(pnorte)}\")\n",
        "print(f\"Centro: {sorted(pcentro)}\")\n",
        "print(f\"Sur: {sorted(psur)}\")\n",
        "print(f\"Todos: {sorted(ptotal)}\")"
      ],
      "execution_count": 4,
      "outputs": [
        {
          "output_type": "stream",
          "text": [
            "¿Cuántos países serán?: 10\n",
            "¿Cuántos países serán de el Norte de América?: 3\n",
            "¿Cuántos países serán de el Centro de América?: 4\n",
            "¿Cuántos países serán de el Sur de América?: 4\n",
            "La cantidad de países ingresada por regiones es mayor a la total.\n",
            "¿Cuántos países serán de el Norte de América?: 3\n",
            "¿Cuántos países serán de el Centro de América?: 4\n",
            "¿Cuántos países serán de el Sur de América?: 3\n",
            "Ingresa el nombre del país n°1 para la región del Norte de América: Canada\n",
            "Ingresa el nombre del país n°2 para la región del Norte de América: México\n",
            "Ingresa el nombre del país n°3 para la región del Norte de América: Estados Unidos\n",
            "Ingresa el nombre del país n°1 para la región del Centro de América: Panama\n",
            "Ingresa el nombre del país n°2 para la región del Centro de América: Honduras\n",
            "Ingresa el nombre del país n°3 para la región del Centro de América: Belice\n",
            "Ingresa el nombre del país n°4 para la región del Centro de América: Costa Rica\n",
            "Ingresa el nombre del país n°1 para la región del Sur de América: Argentina\n",
            "Ingresa el nombre del país n°2 para la región del Sur de América: Chile\n",
            "Ingresa el nombre del país n°3 para la región del Sur de América: Uruguay\n",
            "Norte: ['Canada', 'Estados Unidos', 'México']\n",
            "Centro: ['Belice', 'Costa Rica', 'Honduras', 'Panama']\n",
            "Sur: ['Argentina', 'Chile', 'Uruguay']\n",
            "Todos: ['Argentina', 'Belice', 'Canada', 'Chile', 'Costa Rica', 'Estados Unidos', 'Honduras', 'México', 'Panama', 'Uruguay']\n"
          ],
          "name": "stdout"
        }
      ]
    }
  ]
}