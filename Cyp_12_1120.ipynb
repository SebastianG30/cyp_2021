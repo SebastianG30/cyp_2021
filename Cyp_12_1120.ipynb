{
  "nbformat": 4,
  "nbformat_minor": 0,
  "metadata": {
    "colab": {
      "name": "Cyp 12/1120",
      "provenance": [],
      "authorship_tag": "ABX9TyPytDEYrRsPDUy8RqcryCba",
      "include_colab_link": true
    },
    "kernelspec": {
      "name": "python3",
      "display_name": "Python 3"
    }
  },
  "cells": [
    {
      "cell_type": "markdown",
      "metadata": {
        "id": "view-in-github",
        "colab_type": "text"
      },
      "source": [
        "<a href=\"https://colab.research.google.com/github/SebastianG30/cyp_2021/blob/main/Cyp_12_1120.ipynb\" target=\"_parent\"><img src=\"https://colab.research.google.com/assets/colab-badge.svg\" alt=\"Open In Colab\"/></a>"
      ]
    },
    {
      "cell_type": "code",
      "metadata": {
        "id": "nUdAOH_FpV2A",
        "outputId": "f8133e73-8f58-440f-ae20-ae03a4b00e12",
        "colab": {
          "base_uri": "https://localhost:8080/"
        }
      },
      "source": [
        "#Ejemplo 1\n",
        "numero=int (input(\"Dame un numero\"))\n",
        "if numero >0:\n",
        "  print(\"El numero es positivo\")\n",
        "\n",
        "  print(\"Fin del programa\")"
      ],
      "execution_count": 2,
      "outputs": [
        {
          "output_type": "stream",
          "text": [
            "Dame un numero-2\n"
          ],
          "name": "stdout"
        }
      ]
    },
    {
      "cell_type": "code",
      "metadata": {
        "id": "b9GM8v9wqGWX",
        "outputId": "f91fc1eb-3355-4f63-855f-2afb74e484ec",
        "colab": {
          "base_uri": "https://localhost:8080/"
        }
      },
      "source": [
        "#Ejemplo 2\n",
        "numero= int(input(\"Digite numero:\"))\n",
        "if numero >0:\n",
        "  print(\"El numero es positivo\")\n",
        "else:\n",
        "  print(\"El numero es negativo\")\n"
      ],
      "execution_count": 17,
      "outputs": [
        {
          "output_type": "stream",
          "text": [
            "Digite numero:6\n",
            "El numero es positivo\n"
          ],
          "name": "stdout"
        }
      ]
    },
    {
      "cell_type": "code",
      "metadata": {
        "id": "X_dV2qljqgoP",
        "outputId": "135448b5-a67a-4d4b-d42a-5aea04eb9e4b",
        "colab": {
          "base_uri": "https://localhost:8080/",
          "height": 130
        }
      },
      "source": [
        "#Ejemplo 3\n",
        "numero= int(input(\"Digite un numero\"))\n",
        "if numero >0:\n",
        "  print(\"El numero es positivo\")\n",
        "elif numero==0:\n",
        "  print(\"El numero es cero\")\n",
        "\n",
        "  else: #sino imprime negativo\n",
        "  print(\"El numero es negativo\")\n",
        "\n",
        "  print(\"Fin del programa\")"
      ],
      "execution_count": 19,
      "outputs": [
        {
          "output_type": "error",
          "ename": "SyntaxError",
          "evalue": "ignored",
          "traceback": [
            "\u001b[0;36m  File \u001b[0;32m\"<ipython-input-19-0bc3d8197731>\"\u001b[0;36m, line \u001b[0;32m8\u001b[0m\n\u001b[0;31m    else: #sino imprime negativo\u001b[0m\n\u001b[0m       ^\u001b[0m\n\u001b[0;31mSyntaxError\u001b[0m\u001b[0;31m:\u001b[0m invalid syntax\n"
          ]
        }
      ]
    }
  ]
}