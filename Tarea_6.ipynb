{
  "nbformat": 4,
  "nbformat_minor": 0,
  "metadata": {
    "colab": {
      "name": "Tarea 6.ipynb",
      "provenance": [],
      "collapsed_sections": [],
      "authorship_tag": "ABX9TyP+p2mrlUkRCbmy/9UEYDGC",
      "include_colab_link": true
    },
    "kernelspec": {
      "name": "python3",
      "display_name": "Python 3"
    }
  },
  "cells": [
    {
      "cell_type": "markdown",
      "metadata": {
        "id": "view-in-github",
        "colab_type": "text"
      },
      "source": [
        "<a href=\"https://colab.research.google.com/github/SebastianG30/cyp_2021/blob/main/Tarea_6.ipynb\" target=\"_parent\"><img src=\"https://colab.research.google.com/assets/colab-badge.svg\" alt=\"Open In Colab\"/></a>"
      ]
    },
    {
      "cell_type": "code",
      "metadata": {
        "colab": {
          "base_uri": "https://localhost:8080/"
        },
        "id": "yYk8LlyTQzmd",
        "outputId": "18fc3c50-cdfd-4986-8383-c2f1f2c2b2f9"
      },
      "source": [
        "#Ejercicio 3.3\n",
        "\n",
        "Serie=0\n",
        "Dato=0\n",
        "CadenaD=0\n",
        "CadenaF=0\n",
        "\n",
        "Dato=int(input(\"Numero final: \"))\n",
        "\n",
        "if Dato<1:\n",
        "    print(\"Numeros mayores a cero.\")\n",
        "else:\n",
        "    i=1\n",
        "    flag= True\n",
        "    CadenaD= \"\"\n",
        "    CadenaF= \"\"\n",
        "    while i <=Dato:\n",
        "        aux=1/i\n",
        "        CadenaD+=(\"{0:.2f}\".format(1/i)) if flag else (\"{0:.2f}\".format(-(1/i)))\n",
        "        CadenaD+=(\", \") if i < Dato else \"\"\n",
        "        CadenaF+=(f\"1/{i}\") if flag else (f\"-1/{i}\")\n",
        "        CadenaF+=(\", \") if i < Dato else \"\"\n",
        "        flag=not flag\n",
        "        i +=1\n",
        "\n",
        "print(CadenaD)\n",
        "print(CadenaF)"
      ],
      "execution_count": null,
      "outputs": [
        {
          "output_type": "stream",
          "text": [
            "Numero final: 10\n",
            "1.00, -0.50, 0.33, -0.25, 0.20, -0.17, 0.14, -0.12, 0.11, -0.10\n",
            "1/1, -1/2, 1/3, -1/4, 1/5, -1/6, 1/7, -1/8, 1/9, -1/10\n"
          ],
          "name": "stdout"
        }
      ]
    },
    {
      "cell_type": "code",
      "metadata": {
        "colab": {
          "base_uri": "https://localhost:8080/"
        },
        "id": "I9DC11FLVZ5H",
        "outputId": "86d682f0-f41c-4e19-c9c7-195a0fe9522f"
      },
      "source": [
        "#Problema 3.4\n",
        "\n",
        "Sueldo=1\n",
        "Nomina=0\n",
        "\n",
        "while Sueldo >0:\n",
        "    Sueldo=float(input(\"Sueldo: $\"))\n",
        "    Sueldo=(Sueldo*1.15) if Sueldo < 1000 else (Sueldo*1.12)\n",
        "    if Sueldo >0:\n",
        "        print(\"El sueldo total es: ${0:.2f}\".format(Sueldo))\n",
        "        Nomina+=Sueldo\n",
        "    else:\n",
        "        break\n",
        "print(\"La nomina total de la empresa es: ${0:.2f}\".format(nomina))"
      ],
      "execution_count": null,
      "outputs": [
        {
          "output_type": "stream",
          "text": [
            "Sueldo: $855\n",
            "El sueldo total es: $983.25\n",
            "Sueldo: $760.32\n",
            "El sueldo total es: $874.37\n",
            "Sueldo: $1100.20\n",
            "El sueldo total es: $1232.22\n",
            "Sueldo: $614\n",
            "El sueldo total es: $706.10\n",
            "Sueldo: $2600\n",
            "El sueldo total es: $2912.00\n",
            "Sueldo: $817.50\n",
            "El sueldo total es: $940.12\n",
            "Sueldo: $1280.30\n",
            "El sueldo total es: $1433.94\n",
            "Sueldo: $687\n",
            "El sueldo total es: $790.05\n",
            "Sueldo: $-1\n",
            "La nomina total es: $9872.05\n"
          ],
          "name": "stdout"
        }
      ]
    },
    {
      "cell_type": "code",
      "metadata": {
        "colab": {
          "base_uri": "https://localhost:8080/"
        },
        "id": "YzX108kMgDfz",
        "outputId": "0596443b-fd6e-4e8f-f302-5061f272d952"
      },
      "source": [
        "#Ejercicio 3.5\n",
        "\n",
        "SumaNumerosPos=0\n",
        "SumaTodosNumeros=0\n",
        "CantidadNumerosPos=0\n",
        "\n",
        "i=1\n",
        "CantidadDatos=int(input(\"¿Cuántos datos vas a ingresar?: \"))\n",
        "\n",
        "while i <=CantidadDatos:\n",
        "    aux=int(input(\"Numero: \"))\n",
        "    SumaTodosNumeros+=aux\n",
        "    if aux > 0:\n",
        "        SumaNumerosPos+=aux\n",
        "        CantidadNumerosPos+=1\n",
        "    i +=1\n",
        "\n",
        "print(f\"Total de numeros mayores a cero fueron: {CantidadNumerosPos}\")\n",
        "print(\"El promedio de los numeros positivos es: {0:.2f}\".format(SumaNumerosPos/CantidadNumerosPos))\n",
        "print(\"El promedio de los numeros fue: {0:.2f}\".format(SumaTodosNumeros/CantidadDatos))"
      ],
      "execution_count": null,
      "outputs": [
        {
          "output_type": "stream",
          "text": [
            "¿Cuántos datos vas a ingresar?: 20\n",
            "Numero: 7\n",
            "Numero: 12\n",
            "Numero: 0\n",
            "Numero: 6\n",
            "Numero: 11\n",
            "Numero: -3\n",
            "Numero: 17\n",
            "Numero: 12\n",
            "Numero: 19\n",
            "Numero: 0\n",
            "Numero: 11\n",
            "Numero: 4\n",
            "Numero: -5\n",
            "Numero: -1\n",
            "Numero: 0\n",
            "Numero: 3\n",
            "Numero: 24\n",
            "Numero: 0\n",
            "Numero: 3\n",
            "Numero: -16\n",
            "Total de numeros mayores a cero fueron: 12\n",
            "El promedio de los numeros positivos es: 10.75\n",
            "El promedio de los numeros fue: 5.20\n"
          ],
          "name": "stdout"
        }
      ]
    },
    {
      "cell_type": "code",
      "metadata": {
        "colab": {
          "base_uri": "https://localhost:8080/"
        },
        "id": "Y8g0E3cmkBxb",
        "outputId": "03ed24f6-3b52-4650-b503-a2408ea92174"
      },
      "source": [
        "#Ejercicio 3.6\n",
        "\n",
        "CantidadDatos=0\n",
        "ListaNumeros=0\n",
        "\n",
        "CantidadDatos=int(input(\"¿Cuantos datos vas a ingresar?: \"))\n",
        "if CantidadDatos < 1:\n",
        "    print(\"Cantidad de datos no permitidos: Error\")\n",
        "else:\n",
        "    ListaNumeros=[]\n",
        "    i=1\n",
        "    while i<=CantidadDatos:\n",
        "        ListaNumeros.append(int(input(\"Numero: \")))\n",
        "        i+=1\n",
        "    for i in range(CantidadDatos):\n",
        "        for j in range(CantidadDatos - 1):\n",
        "            if ListaNumeros[j] > ListaNumeros[j+1]:\n",
        "                aux=listaNumeros[j+1]\n",
        "                ListaNumeros[j+1]=ListaNumeros[j]\n",
        "                ListaNumeros[j]=aux\n",
        "                \n",
        "    print(f\"El numero menor es: {ListaNumeros[0]}\")\n",
        "    print(f\"El numero grande es: {ListaNumeros[CantidadDatos-1]}\")"
      ],
      "execution_count": null,
      "outputs": [
        {
          "output_type": "stream",
          "text": [
            "¿Cuantos datos vas a ingresar?: 4\n",
            "Numero: -100000\n",
            "Numero: 170\n",
            "Numero: 815\n",
            "Numero: 1700\n",
            "El numero menor es: -100000\n",
            "El numero grande es: 1700\n"
          ],
          "name": "stdout"
        }
      ]
    },
    {
      "cell_type": "code",
      "metadata": {
        "colab": {
          "base_uri": "https://localhost:8080/"
        },
        "id": "Qtvx2sIhoPJQ",
        "outputId": "9649fe5b-78ad-44d3-f000-b391b1a140a4"
      },
      "source": [
        "#Ejercicio 3.7\n",
        "\n",
        "CantidadVentas=0\n",
        "Venta=0\n",
        "\n",
        "CantidadVentas=int(input(\"Cantidad de ventas: \"))\n",
        "if CantidadVentas <1:\n",
        "    print(\"Cantidad no admitida.\")\n",
        "else:\n",
        "    i = 1\n",
        "    Venta_0_200=0\n",
        "    Venta_200_400=0\n",
        "    Venta_400=0\n",
        "    while i <=CantidadVentas:\n",
        "        Venta=float(input(\"Venta: \"))\n",
        "        if Venta<0:\n",
        "            print(\"No se admiten ventas negativas.\")\n",
        "            break\n",
        "        else:\n",
        "            if Venta>=0 and Venta<200:\n",
        "                Venta_0_200 +=1\n",
        "            elif Venta>=200 and Venta<400:\n",
        "                Venta_200_400 +=1\n",
        "            else:\n",
        "                Venta_400 +=1\n",
        "        i +=1\n",
        "        \n",
        "print(f\"El total de ventas de $200 o menor fue de: {Venta_0_200}\")\n",
        "print(f\"El total de ventas de $200 a $400 fue de: {Venta_200_400}\")\n",
        "print(f\"El total de ventas de mÁs de $400 fue de: {Venta_400}\")"
      ],
      "execution_count": null,
      "outputs": [
        {
          "output_type": "stream",
          "text": [
            "Cantidad de ventas: 12\n",
            "Venta: 180.25\n",
            "Venta: 470.30\n",
            "Venta: 150.25\n",
            "Venta: 88.60\n",
            "Venta: 230.15\n",
            "Venta: 170.20\n",
            "Venta: 40.30\n",
            "Venta: 201.90\n",
            "Venta: 60.32\n",
            "Venta: 280.30\n",
            "Venta: 15.70\n",
            "Venta: 140.20\n",
            "Total de ventas de $200 o menos: 8\n",
            "Total de ventas de $200 a $400: 3\n",
            "Total de ventas de mas de $400: 1\n"
          ],
          "name": "stdout"
        }
      ]
    },
    {
      "cell_type": "code",
      "metadata": {
        "colab": {
          "base_uri": "https://localhost:8080/"
        },
        "id": "yqrzZk-U2TRn",
        "outputId": "02837154-6256-4288-8021-5d275a163260"
      },
      "source": [
        "#Ejercicio 3.8\n",
        "\n",
        "Num=0\n",
        "Secu=0\n",
        "\n",
        "Num=int(input(\"Escriba el numero: \"))\n",
        "if Num<1:\n",
        "    print(\"Solo escriba numeros positivos, no sabe leer? -_-.\")\n",
        "else:\n",
        "    Secu=f\"{Num}, \"\n",
        "    while Num !=1:\n",
        "        Num=(int(Num/2)) if Num%2==0 else ((Num*3)+1)\n",
        "        Secu+=(f\"{Num}, \") if Num !=1 else (f\"{Num}\")\n",
        "        \n",
        "print(f\"La secuencia es: {Secu}\")"
      ],
      "execution_count": null,
      "outputs": [
        {
          "output_type": "stream",
          "text": [
            "Escriba el numero: 26\n",
            "La secuencia es: 26, 13, 40, 20, 10, 5, 16, 8, 4, 2, 1\n"
          ],
          "name": "stdout"
        }
      ]
    },
    {
      "cell_type": "code",
      "metadata": {
        "colab": {
          "base_uri": "https://localhost:8080/"
        },
        "id": "zUS7PHdX41PY",
        "outputId": "c6293868-de5a-47ee-d45a-d591ed93b054"
      },
      "source": [
        "#Ejercicio 3.9\n",
        "\n",
        "Num=0\n",
        "Cont=0\n",
        "\n",
        "Num=int(input(\"Escriba el numero: \"))\n",
        "if Num<1:\n",
        "    print(\"Solo escriba numeros positivos, no sabe leer? -_-.\")\n",
        "else:\n",
        "    Cont=0\n",
        "    i=1\n",
        "    while i <=Num:\n",
        "        Cont+=i**i\n",
        "        i +=1\n",
        "        \n",
        "print(f\"El total es: {Cont}\")"
      ],
      "execution_count": null,
      "outputs": [
        {
          "output_type": "stream",
          "text": [
            "Escriba el numero: 5\n",
            "El total es: 3413\n"
          ],
          "name": "stdout"
        }
      ]
    },
    {
      "cell_type": "code",
      "metadata": {
        "colab": {
          "base_uri": "https://localhost:8080/"
        },
        "id": "mmLTdZBc64ic",
        "outputId": "3eda284f-0bef-4dc2-c2d7-e06a09e881c5"
      },
      "source": [
        "#Ejercicio 3.10\n",
        "\n",
        "i=3\n",
        "Pri=0\n",
        "Seg=1\n",
        "Serie=\"0, 1, 2, 3 \"\n",
        "\n",
        "while i <=180:\n",
        "    proximo=Pri+Seg\n",
        "    Pri=Seg\n",
        "    Seg=proximo\n",
        "    Serie+=(f\"{proximo}, \") if i < 180 else (f\"{proximo}\")\n",
        "    i +=1\n",
        "    \n",
        "print(Serie)"
      ],
      "execution_count": null,
      "outputs": [
        {
          "output_type": "stream",
          "text": [
            "0, 1, 2, 3 1, 2, 3, 5, 8, 13, 21, 34, 55, 89, 144, 233, 377, 610, 987, 1597, 2584, 4181, 6765, 10946, 17711, 28657, 46368, 75025, 121393, 196418, 317811, 514229, 832040, 1346269, 2178309, 3524578, 5702887, 9227465, 14930352, 24157817, 39088169, 63245986, 102334155, 165580141, 267914296, 433494437, 701408733, 1134903170, 1836311903, 2971215073, 4807526976, 7778742049, 12586269025, 20365011074, 32951280099, 53316291173, 86267571272, 139583862445, 225851433717, 365435296162, 591286729879, 956722026041, 1548008755920, 2504730781961, 4052739537881, 6557470319842, 10610209857723, 17167680177565, 27777890035288, 44945570212853, 72723460248141, 117669030460994, 190392490709135, 308061521170129, 498454011879264, 806515533049393, 1304969544928657, 2111485077978050, 3416454622906707, 5527939700884757, 8944394323791464, 14472334024676221, 23416728348467685, 37889062373143906, 61305790721611591, 99194853094755497, 160500643816367088, 259695496911122585, 420196140727489673, 679891637638612258, 1100087778366101931, 1779979416004714189, 2880067194370816120, 4660046610375530309, 7540113804746346429, 12200160415121876738, 19740274219868223167, 31940434634990099905, 51680708854858323072, 83621143489848422977, 135301852344706746049, 218922995834555169026, 354224848179261915075, 573147844013817084101, 927372692193078999176, 1500520536206896083277, 2427893228399975082453, 3928413764606871165730, 6356306993006846248183, 10284720757613717413913, 16641027750620563662096, 26925748508234281076009, 43566776258854844738105, 70492524767089125814114, 114059301025943970552219, 184551825793033096366333, 298611126818977066918552, 483162952612010163284885, 781774079430987230203437, 1264937032042997393488322, 2046711111473984623691759, 3311648143516982017180081, 5358359254990966640871840, 8670007398507948658051921, 14028366653498915298923761, 22698374052006863956975682, 36726740705505779255899443, 59425114757512643212875125, 96151855463018422468774568, 155576970220531065681649693, 251728825683549488150424261, 407305795904080553832073954, 659034621587630041982498215, 1066340417491710595814572169, 1725375039079340637797070384, 2791715456571051233611642553, 4517090495650391871408712937, 7308805952221443105020355490, 11825896447871834976429068427, 19134702400093278081449423917, 30960598847965113057878492344, 50095301248058391139327916261, 81055900096023504197206408605, 131151201344081895336534324866, 212207101440105399533740733471, 343358302784187294870275058337, 555565404224292694404015791808, 898923707008479989274290850145, 1454489111232772683678306641953, 2353412818241252672952597492098, 3807901929474025356630904134051, 6161314747715278029583501626149, 9969216677189303386214405760200, 16130531424904581415797907386349, 26099748102093884802012313146549, 42230279526998466217810220532898, 68330027629092351019822533679447, 110560307156090817237632754212345, 178890334785183168257455287891792, 289450641941273985495088042104137, 468340976726457153752543329995929, 757791618667731139247631372100066, 1226132595394188293000174702095995, 1983924214061919432247806074196061, 3210056809456107725247980776292056, 5193981023518027157495786850488117, 8404037832974134882743767626780173, 13598018856492162040239554477268290, 22002056689466296922983322104048463, 35600075545958458963222876581316753, 57602132235424755886206198685365216, 93202207781383214849429075266681969, 150804340016807970735635273952047185, 244006547798191185585064349218729154, 394810887814999156320699623170776339, 638817435613190341905763972389505493, 1033628323428189498226463595560281832, 1672445759041379840132227567949787325, 2706074082469569338358691163510069157, 4378519841510949178490918731459856482, 7084593923980518516849609894969925639, 11463113765491467695340528626429782121\n"
          ],
          "name": "stdout"
        }
      ]
    },
    {
      "cell_type": "code",
      "metadata": {
        "colab": {
          "base_uri": "https://localhost:8080/"
        },
        "id": "_Y3Z7mxe9ZNW",
        "outputId": "b02e850c-7fb0-441f-82b8-6d67d2c2d68d"
      },
      "source": [
        "#Ejercicio 3.11\n",
        "\n",
        "Voto=1\n",
        "TotalVotos=0\n",
        "Votos1=0\n",
        "Votos2=0\n",
        "Votos3=0\n",
        "Votos4=0\n",
        "\n",
        "while Voto > 0 and Voto < 5:\n",
        "    Voto=int(input(\"Su voto es para el candidato numero: \"))\n",
        "    TotalVotos=(TotalVotos+1) if Voto > 0 and Voto < 5 else TotalVotos\n",
        "    if Voto ==1:\n",
        "        Votos1+=1\n",
        "    elif Voto ==2:\n",
        "        Votos2+=1\n",
        "    elif Voto ==3:\n",
        "        Votos3+=1\n",
        "    elif Voto ==4:\n",
        "        Votos4+=1\n",
        "    else:\n",
        "        break\n",
        "\n",
        "print(f\"Fue un total de {TotalVotos} votos registrados.\")\n",
        "print(f\"El candidato 1: {Votos1} votos obtenidos para un total del {(Votos1/TotalVotos)*100}% de todos los votos registrados.\")\n",
        "print(f\"El candidato 2: {Votos2} votos obtenidos para un total del {(Votos2/TotalVotos)*100}% de todos los votos registrados.\")\n",
        "print(f\"El candidato 3: {Votos3} votos obtenidos para un total del {(Votos3/TotalVotos)*100}% de todos los votos registrados.\")\n",
        "print(f\"El candidato 4: {Votos4} votos obtenidos para un total del {(Votos4/TotalVotos)*100}% de todos los votos registrados.\")"
      ],
      "execution_count": null,
      "outputs": [
        {
          "output_type": "stream",
          "text": [
            "Su voto es para el candidato numero: 1\n",
            "Su voto es para el candidato numero: 1\n",
            "Su voto es para el candidato numero: 1\n",
            "Su voto es para el candidato numero: 1\n",
            "Su voto es para el candidato numero: 2\n",
            "Su voto es para el candidato numero: 2\n",
            "Su voto es para el candidato numero: 3\n",
            "Su voto es para el candidato numero: 4\n",
            "Su voto es para el candidato numero: 4\n",
            "Su voto es para el candidato numero: 4\n",
            "Su voto es para el candidato numero: 1\n",
            "Su voto es para el candidato numero: 2\n",
            "Su voto es para el candidato numero: 2\n",
            "Su voto es para el candidato numero: 1\n",
            "Su voto es para el candidato numero: 1\n",
            "Su voto es para el candidato numero: 4\n",
            "Su voto es para el candidato numero: 4\n",
            "Su voto es para el candidato numero: 2\n",
            "Su voto es para el candidato numero: 3\n",
            "Su voto es para el candidato numero: 1\n",
            "Su voto es para el candidato numero: 1\n",
            "Su voto es para el candidato numero: 3\n",
            "Su voto es para el candidato numero: 0\n",
            "Fue un total de 22 votos registrados.\n",
            "El candidato 1: 9 votos obtenidos para un total del 40.909090909090914% de todos los votos registrados\n",
            "El candidato 2: 5 votos obtenidos para un total del 22.727272727272727% de todos los votos registrados\n",
            "El candidato 3: 3 votos obtenidos para un total del 13.636363636363635% de todos los votos registrados\n",
            "El candidato 4: 5 votos obtenidos para un total del 22.727272727272727% de todos los votos registrados\n"
          ],
          "name": "stdout"
        }
      ]
    },
    {
      "cell_type": "code",
      "metadata": {
        "colab": {
          "base_uri": "https://localhost:8080/"
        },
        "id": "l9pGFKgFBpiO",
        "outputId": "006c6712-31e7-430f-d23b-e150b134ffde"
      },
      "source": [
        "#Ejercicio 3.12\n",
        "\n",
        "Sueldo=1\n",
        "NumDeEmpleado=0\n",
        "NumMax=0\n",
        "SueldoMax=0\n",
        "\n",
        "Empleados=int(input(\"Numero de empleados: \"))\n",
        "i=0\n",
        "while i<Empleados:\n",
        "    NumDeEmpleado=int(input(\"Numero de empleado: \"))\n",
        "    Sueldo=float(input(\"Sueldo: \"))\n",
        "    if Sueldo > SueldoMax :\n",
        "        SueldoMax=Sueldo\n",
        "        NumMax = NumDeEmpleado\n",
        "    i+=1\n",
        "\n",
        "print(f\"El numero del empleado con el sueldo mas alto es: {NumMax}\")\n",
        "print(f\"Sueldo: {SueldoMax}\")"
      ],
      "execution_count": null,
      "outputs": [
        {
          "output_type": "stream",
          "text": [
            "Numero de empleados: 6\n",
            "Numero de empleado: 1235\n",
            "Sueldo: 2580\n",
            "Numero de empleado: 1260\n",
            "Sueldo: 1400\n",
            "Numero de empleado: 1325\n",
            "Sueldo: 3600\n",
            "Numero de empleado: 1418\n",
            "Sueldo: 2720\n",
            "Numero de empleado: 1650\n",
            "Sueldo: 4120\n",
            "Numero de empleado: 1717\n",
            "Sueldo: 1950\n",
            "El numero del empleado con el sueldo mas alto es: 1650\n",
            "Sueldo: 4120.0\n"
          ],
          "name": "stdout"
        }
      ]
    },
    {
      "cell_type": "code",
      "metadata": {
        "colab": {
          "base_uri": "https://localhost:8080/"
        },
        "id": "3MFQt0lCZYGw",
        "outputId": "39c5dcdc-9da6-402b-e467-594d19a7db1c"
      },
      "source": [
        "#Ejercicio 3.13\n",
        "\n",
        "arsu=0\n",
        "arno=0\n",
        "mersu=500000\n",
        "arce=0\n",
        "i=1\n",
        "\n",
        "for i in range (12):\n",
        "  rno=float (input(f\"{i+1}.- Ingrese la cantidad de lluvias que hubo en la REGION NORTE\\n\"))\n",
        "  rce=float (input(f\"{i+1}.- Ingrese la cantidad de lluvias que hubo en la REGION CENTRO\\n\"))\n",
        "  rsu=float (input(f\"{i+1}.- Ingrese la cantidad de lluvias que hubo en la REGION SUR\\n\"))\n",
        "  arno=arno+rno\n",
        "  arce=arce+rce\n",
        "  arsu=arsu+rsu\n",
        "  if (rsu<mersu):\n",
        "    mersu=rsu\n",
        "    mes=i+1\n",
        "  i=i+1\n",
        "prorce=arce/12\n",
        "print(\"El promedio de lluvia de la region centro es\",prorce,\"%\")\n",
        "print(\"El mes con menor lluvia en la región sur fue\",mes)\n",
        "print(\"Registro del mes:\",mersu)\n",
        "\n",
        "if (arno>arce):\n",
        "  if (arno>arsu):\n",
        "    print(\"La region con mayor lluvia es la region norte\")\n",
        "  else: \n",
        "    print(\"La region con mayor lluvia es la region sur\")\n",
        "else:\n",
        "  if (arce>arsu):\n",
        "    print(\"La region con mayor lluvia es la region centro\")\n",
        "  else:\n",
        "    print(\"La region con mayot lluvia es la region sur\")"
      ],
      "execution_count": 2,
      "outputs": [
        {
          "output_type": "stream",
          "text": [
            "1.- Ingrese la cantidad de lluvias que hubo en la REGION NORTE\n",
            "80\n",
            "1.- Ingrese la cantidad de lluvias que hubo en la REGION CENTRO\n",
            "70\n",
            "1.- Ingrese la cantidad de lluvias que hubo en la REGION SUR\n",
            "170\n",
            "2.- Ingrese la cantidad de lluvias que hubo en la REGION NORTE\n",
            "60\n",
            "2.- Ingrese la cantidad de lluvias que hubo en la REGION CENTRO\n",
            "85\n",
            "2.- Ingrese la cantidad de lluvias que hubo en la REGION SUR\n",
            "100\n",
            "3.- Ingrese la cantidad de lluvias que hubo en la REGION NORTE\n",
            "120\n",
            "3.- Ingrese la cantidad de lluvias que hubo en la REGION CENTRO\n",
            "100\n",
            "3.- Ingrese la cantidad de lluvias que hubo en la REGION SUR\n",
            "185\n",
            "4.- Ingrese la cantidad de lluvias que hubo en la REGION NORTE\n",
            "100\n",
            "4.- Ingrese la cantidad de lluvias que hubo en la REGION CENTRO\n",
            "90\n",
            "4.- Ingrese la cantidad de lluvias que hubo en la REGION SUR\n",
            "88\n",
            "5.- Ingrese la cantidad de lluvias que hubo en la REGION NORTE\n",
            "70\n",
            "5.- Ingrese la cantidad de lluvias que hubo en la REGION CENTRO\n",
            "82\n",
            "5.- Ingrese la cantidad de lluvias que hubo en la REGION SUR\n",
            "80\n",
            "6.- Ingrese la cantidad de lluvias que hubo en la REGION NORTE\n",
            "150\n",
            "6.- Ingrese la cantidad de lluvias que hubo en la REGION CENTRO\n",
            "130\n",
            "6.- Ingrese la cantidad de lluvias que hubo en la REGION SUR\n",
            "122\n",
            "7.- Ingrese la cantidad de lluvias que hubo en la REGION NORTE\n",
            "100\n",
            "7.- Ingrese la cantidad de lluvias que hubo en la REGION CENTRO\n",
            "95\n",
            "7.- Ingrese la cantidad de lluvias que hubo en la REGION SUR\n",
            "67\n",
            "8.- Ingrese la cantidad de lluvias que hubo en la REGION NORTE\n",
            "47\n",
            "8.- Ingrese la cantidad de lluvias que hubo en la REGION CENTRO\n",
            "38\n",
            "8.- Ingrese la cantidad de lluvias que hubo en la REGION SUR\n",
            "55\n",
            "9.- Ingrese la cantidad de lluvias que hubo en la REGION NORTE\n",
            "95\n",
            "9.- Ingrese la cantidad de lluvias que hubo en la REGION CENTRO\n",
            "115\n",
            "9.- Ingrese la cantidad de lluvias que hubo en la REGION SUR\n",
            "110\n",
            "10.- Ingrese la cantidad de lluvias que hubo en la REGION NORTE\n",
            "70\n",
            "10.- Ingrese la cantidad de lluvias que hubo en la REGION CENTRO\n",
            "62\n",
            "10.- Ingrese la cantidad de lluvias que hubo en la REGION SUR\n",
            "83\n",
            "11.- Ingrese la cantidad de lluvias que hubo en la REGION NORTE\n",
            "100\n",
            "11.- Ingrese la cantidad de lluvias que hubo en la REGION CENTRO\n",
            "87\n",
            "11.- Ingrese la cantidad de lluvias que hubo en la REGION SUR\n",
            "107\n",
            "12.- Ingrese la cantidad de lluvias que hubo en la REGION NORTE\n",
            "130\n",
            "12.- Ingrese la cantidad de lluvias que hubo en la REGION CENTRO\n",
            "103\n",
            "12.- Ingrese la cantidad de lluvias que hubo en la REGION SUR\n",
            "148\n",
            "El promedio de lluvia de la region centro es 88.08333333333333 %\n",
            "El mes con menor lluvia en la región sur fue 8\n",
            "Registro del mes: 55.0\n",
            "La region con mayor lluvia es la region sur\n"
          ],
          "name": "stdout"
        }
      ]
    },
    {
      "cell_type": "code",
      "metadata": {
        "colab": {
          "base_uri": "https://localhost:8080/"
        },
        "id": "UycxGW-AZqXk",
        "outputId": "e5c7a831-8c18-47c0-d1f1-d3bc1026d01f"
      },
      "source": [
        "#Ejercicio 3.14\n",
        "\n",
        "ap1=0\n",
        "ap2=0\n",
        "ap3=0\n",
        "ap4=0\n",
        "ap5=0\n",
        "recau=0\n",
        "\n",
        "p1=float (input(\"Ingrese el precio de la localidad #1\\n $\"))\n",
        "p2=float (input(\"Ingrese el precio de la localidad #2\\n $\"))\n",
        "p3=float (input(\"Ingrese el precio de la localidad #3\\n $\"))\n",
        "p4=float (input(\"Ingrese el precio de la localidad #4\\n $\"))\n",
        "p5=float (input(\"Ingrese el precio de la localidad #5\\n $\"))\n",
        "clave=int (input(\"Indique el número de la localidad que desea comprar\\n\"))\n",
        "cant= int (input(\"¿Cuantos desea comprar?\\n\"))\n",
        "while ((clave!=-1) and (cant!=-1)):\n",
        "  if (clave<1) and (clave>4):\n",
        "    print(\"No existe esa clave\")\n",
        "  elif (clave==1):\n",
        "    pre=p1*cant\n",
        "    ap1=ap1+cant\n",
        "  elif (clave==2):\n",
        "    pre=p2*cant\n",
        "    ap2=ap2+cant\n",
        "  elif (clave==3):\n",
        "    pre=p3*cant\n",
        "    ap3=ap3+cant\n",
        "  elif (clave==4):\n",
        "    pre=p4*cant\n",
        "    ap4=ap4+cant \n",
        "  elif (clave==5):\n",
        "    pre=p5*cant\n",
        "    ap5=ap5+cant \n",
        "\n",
        "  print(\"CLAVE DE LOCALIDAD:\",clave,\"\\nCANTIDAD:\",cant,\"\\nPRECIO: $\",pre)  \n",
        "  recau=recau+pre\n",
        "  clave=int (input(\"Indique el número de la localidad que desea comprar\\n\"))\n",
        "  cant= int (input(\"¿Cuantos desea comprar?\\n\"))\n",
        "\n",
        "print(\"Usted compro\",ap1, \"boletos tipo 1\")\n",
        "print(\"Usted compro\",ap2, \"boletos tipo 2\")\n",
        "print(\"Usted compro\",ap3, \"boletos tipo 3\")\n",
        "print(\"Usted compro\",ap4, \"boletos tipo 4\")\n",
        "print(\"Usted compro\",ap5, \"boletos tipo 5\")\n",
        "print(\"Recaudacion del estado: $\",recau)"
      ],
      "execution_count": 3,
      "outputs": [
        {
          "output_type": "stream",
          "text": [
            "Ingrese el precio de la localidad #1\n",
            " $7.25\n",
            "Ingrese el precio de la localidad #2\n",
            " $15.8\n",
            "Ingrese el precio de la localidad #3\n",
            " $25\n",
            "Ingrese el precio de la localidad #4\n",
            " $50\n",
            "Ingrese el precio de la localidad #5\n",
            " $75\n",
            "Indique el número de la localidad que desea comprar\n",
            "2\n",
            "¿Cuantos desea comprar?\n",
            "3\n",
            "CLAVE DE LOCALIDAD: 2 \n",
            "CANTIDAD: 3 \n",
            "PRECIO: $ 47.400000000000006\n",
            "Indique el número de la localidad que desea comprar\n",
            "3\n",
            "¿Cuantos desea comprar?\n",
            "8\n",
            "CLAVE DE LOCALIDAD: 3 \n",
            "CANTIDAD: 8 \n",
            "PRECIO: $ 200.0\n",
            "Indique el número de la localidad que desea comprar\n",
            "2\n",
            "¿Cuantos desea comprar?\n",
            "4\n",
            "CLAVE DE LOCALIDAD: 2 \n",
            "CANTIDAD: 4 \n",
            "PRECIO: $ 63.2\n",
            "Indique el número de la localidad que desea comprar\n",
            "1\n",
            "¿Cuantos desea comprar?\n",
            "6\n",
            "CLAVE DE LOCALIDAD: 1 \n",
            "CANTIDAD: 6 \n",
            "PRECIO: $ 43.5\n",
            "Indique el número de la localidad que desea comprar\n",
            "4\n",
            "¿Cuantos desea comprar?\n",
            "5\n",
            "CLAVE DE LOCALIDAD: 4 \n",
            "CANTIDAD: 5 \n",
            "PRECIO: $ 250.0\n",
            "Indique el número de la localidad que desea comprar\n",
            "1\n",
            "¿Cuantos desea comprar?\n",
            "12\n",
            "CLAVE DE LOCALIDAD: 1 \n",
            "CANTIDAD: 12 \n",
            "PRECIO: $ 87.0\n",
            "Indique el número de la localidad que desea comprar\n",
            "2\n",
            "¿Cuantos desea comprar?\n",
            "8\n",
            "CLAVE DE LOCALIDAD: 2 \n",
            "CANTIDAD: 8 \n",
            "PRECIO: $ 126.4\n",
            "Indique el número de la localidad que desea comprar\n",
            "5\n",
            "¿Cuantos desea comprar?\n",
            "3\n",
            "CLAVE DE LOCALIDAD: 5 \n",
            "CANTIDAD: 3 \n",
            "PRECIO: $ 225.0\n",
            "Indique el número de la localidad que desea comprar\n",
            "2\n",
            "¿Cuantos desea comprar?\n",
            "7\n",
            "CLAVE DE LOCALIDAD: 2 \n",
            "CANTIDAD: 7 \n",
            "PRECIO: $ 110.60000000000001\n",
            "Indique el número de la localidad que desea comprar\n",
            "3\n",
            "¿Cuantos desea comprar?\n",
            "14\n",
            "CLAVE DE LOCALIDAD: 3 \n",
            "CANTIDAD: 14 \n",
            "PRECIO: $ 350.0\n",
            "Indique el número de la localidad que desea comprar\n",
            "4\n",
            "¿Cuantos desea comprar?\n",
            "1\n",
            "CLAVE DE LOCALIDAD: 4 \n",
            "CANTIDAD: 1 \n",
            "PRECIO: $ 50.0\n",
            "Indique el número de la localidad que desea comprar\n",
            "2\n",
            "¿Cuantos desea comprar?\n",
            "11\n",
            "CLAVE DE LOCALIDAD: 2 \n",
            "CANTIDAD: 11 \n",
            "PRECIO: $ 173.8\n",
            "Indique el número de la localidad que desea comprar\n",
            "4\n",
            "¿Cuantos desea comprar?\n",
            "9\n",
            "CLAVE DE LOCALIDAD: 4 \n",
            "CANTIDAD: 9 \n",
            "PRECIO: $ 450.0\n",
            "Indique el número de la localidad que desea comprar\n",
            "5\n",
            "¿Cuantos desea comprar?\n",
            "7\n",
            "CLAVE DE LOCALIDAD: 5 \n",
            "CANTIDAD: 7 \n",
            "PRECIO: $ 525.0\n",
            "Indique el número de la localidad que desea comprar\n",
            "1\n",
            "¿Cuantos desea comprar?\n",
            "23\n",
            "CLAVE DE LOCALIDAD: 1 \n",
            "CANTIDAD: 23 \n",
            "PRECIO: $ 166.75\n",
            "Indique el número de la localidad que desea comprar\n",
            "1\n",
            "¿Cuantos desea comprar?\n",
            "18\n",
            "CLAVE DE LOCALIDAD: 1 \n",
            "CANTIDAD: 18 \n",
            "PRECIO: $ 130.5\n",
            "Indique el número de la localidad que desea comprar\n",
            "3\n",
            "¿Cuantos desea comprar?\n",
            "4\n",
            "CLAVE DE LOCALIDAD: 3 \n",
            "CANTIDAD: 4 \n",
            "PRECIO: $ 100.0\n",
            "Indique el número de la localidad que desea comprar\n",
            "-1\n",
            "¿Cuantos desea comprar?\n",
            "-1\n",
            "Usted compro 59 boletos tipo 1\n",
            "Usted compro 33 boletos tipo 2\n",
            "Usted compro 26 boletos tipo 3\n",
            "Usted compro 15 boletos tipo 4\n",
            "Usted compro 10 boletos tipo 5\n",
            "Recaudacion del estado: $ 3099.1499999999996\n"
          ],
          "name": "stdout"
        }
      ]
    },
    {
      "cell_type": "code",
      "metadata": {
        "colab": {
          "base_uri": "https://localhost:8080/"
        },
        "id": "yqUt2uHuysvX",
        "outputId": "e7158749-25f7-475d-a7e0-bc18a4659970"
      },
      "source": [
        "#Ejercicio 3.15\n",
        "\n",
        "contL=0\n",
        "costoL=0\n",
        "costoN=0\n",
        "costoI=0\n",
        "tipo=1\n",
        "\n",
        "print(\"TIPO DE LLAMADAS\")\n",
        "print(\"1. Internacional 2. Nacional 3. Local\")\n",
        "\n",
        "while tipo == 1 or tipo == 2 or tipo == 3:\n",
        "    tipo = int(input(\"Tipo de llamada (Ingresa el numero correspondiente): \"))\n",
        "    minutos=0\n",
        "    if tipo == 3:\n",
        "        contL +=1\n",
        "    elif tipo == 2:\n",
        "        minutos=int(input(\"Minutos usados: \"))\n",
        "        costo=(1.2*minutos) if minutos > 0 and minutos < 4 else ((1.2*3)+(0.48*(minutos-3)))\n",
        "        costoN +=costo\n",
        "    elif tipo == 1:\n",
        "        minutos=int(input(\"Minutos usados: \"))\n",
        "        costo=(7.59*minutos) if minutos > 0 and minutos < 4 else ((7.59*3)+(3.03*(minutos-3)))\n",
        "        costoI += costo\n",
        "    else:\n",
        "        break\n",
        "costoL=((contL - 50) * 0.6) if contL > 50 else contL\n",
        "\n",
        "print(\"Coste total llamada internacional: ${0:.2f}\".format(costoI))\n",
        "print(\"Coste total llamada nacional: ${0:.2f}\".format(costoN))\n",
        "print(\"Coste total llamada local: ${0:.2f}\".format(costoL))\n",
        "print(f\"Total: {costoI + costoN + costeL}\")"
      ],
      "execution_count": null,
      "outputs": [
        {
          "output_type": "stream",
          "text": [
            "TIPO DE LLAMADAS\n",
            "1. Internacional 2. Nacional 3. Local\n",
            "Tipo de llamada (Ingresa el numero correspondiente): 3\n",
            "Tipo de llamada (Ingresa el numero correspondiente): 3\n",
            "Tipo de llamada (Ingresa el numero correspondiente): 2\n",
            "Minutos usados: 16\n",
            "Tipo de llamada (Ingresa el numero correspondiente): 3\n",
            "Tipo de llamada (Ingresa el numero correspondiente): 3\n",
            "Tipo de llamada (Ingresa el numero correspondiente): 3\n",
            "Tipo de llamada (Ingresa el numero correspondiente): 1\n",
            "Minutos usados: 11\n",
            "Tipo de llamada (Ingresa el numero correspondiente): -1\n",
            "Coste total llamada internacional: $47.01\n",
            "Coste total llamada nacional: $9.84\n",
            "Coste total llamada local: $5.00\n",
            "Total: 56.849999999999994\n"
          ],
          "name": "stdout"
        }
      ]
    },
    {
      "cell_type": "code",
      "metadata": {
        "colab": {
          "base_uri": "https://localhost:8080/"
        },
        "id": "_WLcFtlX7jUM",
        "outputId": "2bb672e4-3ea5-4ebc-81a4-cebc70b6ab91"
      },
      "source": [
        "#Ejercicio 3.17\n",
        "\n",
        "limite=0\n",
        "cadena=0\n",
        "NumeroLimite=0\n",
        "cont=0\n",
        "\n",
        "limite=int(input(\"Numero limite: \"))\n",
        "if limite < 1:\n",
        "    print(\"Entrada no valida.\")\n",
        "else:\n",
        "    i=1\n",
        "    cadena=\"1, \"\n",
        "    while i <=limite:\n",
        "        if i+2 > limite:\n",
        "            break\n",
        "        else:\n",
        "            i+=2\n",
        "            cont=0\n",
        "            for e in range(1, i, 2):\n",
        "                cont=(cont+1) if i%e == 0 else cont\n",
        "            cadena=(cadena+str(i) + \", \") if cont == 1 else cadena\n",
        "            \n",
        "    print(cadena)"
      ],
      "execution_count": null,
      "outputs": [
        {
          "output_type": "stream",
          "text": [
            "Numero limite: 80\n",
            "1, 3, 5, 7, 11, 13, 17, 19, 23, 29, 31, 37, 41, 43, 47, 53, 59, 61, 67, 71, 73, 79, \n"
          ],
          "name": "stdout"
        }
      ]
    },
    {
      "cell_type": "code",
      "metadata": {
        "colab": {
          "base_uri": "https://localhost:8080/"
        },
        "id": "7n2LhQlAEwpM",
        "outputId": "6fcf272b-5659-4183-f2d1-ddf2c98ab6da"
      },
      "source": [
        "#Ejercicio 3.19\n",
        "\n",
        "numero=0\n",
        "cont=0\n",
        "\n",
        "numero=int(input(\"Ingrese el numero: \"))\n",
        "\n",
        "print(\"El numero 1 es un numero perfecto.\")\n",
        "for i in range(1, numero):\n",
        "    cont=0\n",
        "    j=1\n",
        "    while j <= int(i/2):\n",
        "        if i%j == 0:\n",
        "            cont +=j\n",
        "        j +=1\n",
        "    if cont == i:\n",
        "        print(f\"El numero {i} es un numero perfecto.\")"
      ],
      "execution_count": null,
      "outputs": [
        {
          "output_type": "stream",
          "text": [
            "Ingrese el numero: 9\n",
            "El numero 1 es un numero perfecto.\n",
            "El numero 6 es un numero perfecto.\n"
          ],
          "name": "stdout"
        }
      ]
    }
  ]
}