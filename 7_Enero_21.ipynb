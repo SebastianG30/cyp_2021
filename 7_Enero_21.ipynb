{
  "nbformat": 4,
  "nbformat_minor": 0,
  "metadata": {
    "colab": {
      "name": "7_Enero_21.ipynb",
      "provenance": [],
      "authorship_tag": "ABX9TyM2+KOlZIcgiuCTaP/iHSm+",
      "include_colab_link": true
    },
    "kernelspec": {
      "name": "python3",
      "display_name": "Python 3"
    }
  },
  "cells": [
    {
      "cell_type": "markdown",
      "metadata": {
        "id": "view-in-github",
        "colab_type": "text"
      },
      "source": [
        "<a href=\"https://colab.research.google.com/github/SebastianG30/cyp_2021/blob/main/7_Enero_21.ipynb\" target=\"_parent\"><img src=\"https://colab.research.google.com/assets/colab-badge.svg\" alt=\"Open In Colab\"/></a>"
      ]
    },
    {
      "cell_type": "code",
      "metadata": {
        "colab": {
          "base_uri": "https://localhost:8080/"
        },
        "id": "xaTcM51B4om9",
        "outputId": "273740a6-02d7-4728-ea87-6d8142292478"
      },
      "source": [
        "REN=3\n",
        "COL=5\n",
        "VEC= [ [0 for x in range(COL)] for x in range(REN)]\n",
        "print(VEC)\n",
        "VEC[1][2]=15\n",
        "print(VEC)\n",
        "\n",
        "print(\"Automatizar el recorrido del arreglo\")\n",
        "for i in range(REN):\n",
        "  for j in range(COL):\n",
        "    print(f\"{i},{j}= {VEC[i][j]}\")"
      ],
      "execution_count": 11,
      "outputs": [
        {
          "output_type": "stream",
          "text": [
            "[[0, 0, 0, 0, 0], [0, 0, 0, 0, 0], [0, 0, 0, 0, 0]]\n",
            "[[0, 0, 0, 0, 0], [0, 0, 15, 0, 0], [0, 0, 0, 0, 0]]\n",
            "Automatizar el recorrido del arreglo\n",
            "0,0= 0\n",
            "0,1= 0\n",
            "0,2= 0\n",
            "0,3= 0\n",
            "0,4= 0\n",
            "1,0= 0\n",
            "1,1= 0\n",
            "1,2= 15\n",
            "1,3= 0\n",
            "1,4= 0\n",
            "2,0= 0\n",
            "2,1= 0\n",
            "2,2= 0\n",
            "2,3= 0\n",
            "2,4= 0\n"
          ],
          "name": "stdout"
        }
      ]
    },
    {
      "cell_type": "code",
      "metadata": {
        "colab": {
          "base_uri": "https://localhost:8080/",
          "height": 283
        },
        "id": "A4x6wjL6FVJV",
        "outputId": "3a78504d-d67a-43c4-dd90-1c5099359988"
      },
      "source": [
        "estados= int (input(\"Cuantos estados son?: \"))\n",
        "lluvias_men_est= [ [0 for x in range(12)] for x in range(estados)]\n",
        "print(lluvias_men_est)\n",
        "for i in range(estados):\n",
        "  for j in range(12):\n",
        "    mensaje=\"Dame el valor del estado\"+ str(i+1) + \"del mes\" +str(j+1),\":\"\n",
        "    aux=int(input(mensaje))\n",
        "    lluvias_men_est[i][j]=aux\n",
        "\n",
        "print(lluvias_men_est)\n",
        "\n",
        "print(\"Promedio de lluevias en los estados:\")\n",
        "suma=0\n",
        "for i in range(estados):\n",
        "  suma=0\n",
        "  for j in range(12):\n",
        "    suma=suma+ lluvias_men_est[i][j]\n",
        "  print(f\"El promedio de lluvias en el estado {i+1} es {suma/12}\")\n",
        "\n"
      ],
      "execution_count": 24,
      "outputs": [
        {
          "output_type": "stream",
          "text": [
            "Cuantos estados son?: 2\n",
            "[[0, 0, 0, 0, 0, 0, 0, 0, 0, 0, 0, 0], [0, 0, 0, 0, 0, 0, 0, 0, 0, 0, 0, 0]]\n",
            "Dame el valor del estado1del mes1,:\n"
          ],
          "name": "stdout"
        },
        {
          "output_type": "error",
          "ename": "ValueError",
          "evalue": "ignored",
          "traceback": [
            "\u001b[0;31m---------------------------------------------------------------------------\u001b[0m",
            "\u001b[0;31mValueError\u001b[0m                                Traceback (most recent call last)",
            "\u001b[0;32m<ipython-input-24-1845150dd87b>\u001b[0m in \u001b[0;36m<module>\u001b[0;34m()\u001b[0m\n\u001b[1;32m      5\u001b[0m   \u001b[0;32mfor\u001b[0m \u001b[0mj\u001b[0m \u001b[0;32min\u001b[0m \u001b[0mrange\u001b[0m\u001b[0;34m(\u001b[0m\u001b[0;36m12\u001b[0m\u001b[0;34m)\u001b[0m\u001b[0;34m:\u001b[0m\u001b[0;34m\u001b[0m\u001b[0;34m\u001b[0m\u001b[0m\n\u001b[1;32m      6\u001b[0m     \u001b[0mmensaje\u001b[0m\u001b[0;34m=\u001b[0m\u001b[0;34m\"Dame el valor del estado\"\u001b[0m\u001b[0;34m+\u001b[0m \u001b[0mstr\u001b[0m\u001b[0;34m(\u001b[0m\u001b[0mi\u001b[0m\u001b[0;34m+\u001b[0m\u001b[0;36m1\u001b[0m\u001b[0;34m)\u001b[0m \u001b[0;34m+\u001b[0m \u001b[0;34m\"del mes\"\u001b[0m \u001b[0;34m+\u001b[0m\u001b[0mstr\u001b[0m\u001b[0;34m(\u001b[0m\u001b[0mj\u001b[0m\u001b[0;34m+\u001b[0m\u001b[0;36m1\u001b[0m\u001b[0;34m)\u001b[0m\u001b[0;34m,\u001b[0m\u001b[0;34m\":\"\u001b[0m\u001b[0;34m\u001b[0m\u001b[0;34m\u001b[0m\u001b[0m\n\u001b[0;32m----> 7\u001b[0;31m     \u001b[0maux\u001b[0m\u001b[0;34m=\u001b[0m\u001b[0mint\u001b[0m\u001b[0;34m(\u001b[0m\u001b[0minput\u001b[0m\u001b[0;34m(\u001b[0m\u001b[0mmensaje\u001b[0m\u001b[0;34m)\u001b[0m\u001b[0;34m)\u001b[0m\u001b[0;34m\u001b[0m\u001b[0;34m\u001b[0m\u001b[0m\n\u001b[0m\u001b[1;32m      8\u001b[0m     \u001b[0mlluvias_men_est\u001b[0m\u001b[0;34m[\u001b[0m\u001b[0mi\u001b[0m\u001b[0;34m]\u001b[0m\u001b[0;34m[\u001b[0m\u001b[0mj\u001b[0m\u001b[0;34m]\u001b[0m\u001b[0;34m=\u001b[0m\u001b[0maux\u001b[0m\u001b[0;34m\u001b[0m\u001b[0;34m\u001b[0m\u001b[0m\n\u001b[1;32m      9\u001b[0m \u001b[0;34m\u001b[0m\u001b[0m\n",
            "\u001b[0;31mValueError\u001b[0m: invalid literal for int() with base 10: ''"
          ]
        }
      ]
    }
  ]
}