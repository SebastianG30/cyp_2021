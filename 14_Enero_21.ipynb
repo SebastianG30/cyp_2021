{
  "nbformat": 4,
  "nbformat_minor": 0,
  "metadata": {
    "colab": {
      "name": "14_Enero_21.ipynb",
      "provenance": [],
      "authorship_tag": "ABX9TyPUeJGGU0tRrqW2kYuxR2ID",
      "include_colab_link": true
    },
    "kernelspec": {
      "name": "python3",
      "display_name": "Python 3"
    }
  },
  "cells": [
    {
      "cell_type": "markdown",
      "metadata": {
        "id": "view-in-github",
        "colab_type": "text"
      },
      "source": [
        "<a href=\"https://colab.research.google.com/github/SebastianG30/cyp_2021/blob/main/14_Enero_21.ipynb\" target=\"_parent\"><img src=\"https://colab.research.google.com/assets/colab-badge.svg\" alt=\"Open In Colab\"/></a>"
      ]
    },
    {
      "cell_type": "markdown",
      "metadata": {
        "id": "E8o1qTMK5GRW"
      },
      "source": [
        "# Palabras reservadas de Python 3.\n",
        "\n"
      ]
    },
    {
      "cell_type": "code",
      "metadata": {
        "colab": {
          "base_uri": "https://localhost:8080/"
        },
        "id": "fKpjrkDt5eOx",
        "outputId": "07d39782-e265-4d08-d9ba-0281aac940f2"
      },
      "source": [
        "import keyword\n",
        "pr= keyword.kwlist\n",
        "print( len(pr))\n",
        "for palabra in pr:\n",
        "  print(\"1.\", palabra)"
      ],
      "execution_count": 5,
      "outputs": [
        {
          "output_type": "stream",
          "text": [
            "33\n",
            "1. False\n",
            "1. None\n",
            "1. True\n",
            "1. and\n",
            "1. as\n",
            "1. assert\n",
            "1. break\n",
            "1. class\n",
            "1. continue\n",
            "1. def\n",
            "1. del\n",
            "1. elif\n",
            "1. else\n",
            "1. except\n",
            "1. finally\n",
            "1. for\n",
            "1. from\n",
            "1. global\n",
            "1. if\n",
            "1. import\n",
            "1. in\n",
            "1. is\n",
            "1. lambda\n",
            "1. nonlocal\n",
            "1. not\n",
            "1. or\n",
            "1. pass\n",
            "1. raise\n",
            "1. return\n",
            "1. try\n",
            "1. while\n",
            "1. with\n",
            "1. yield\n"
          ],
          "name": "stdout"
        }
      ]
    },
    {
      "cell_type": "markdown",
      "metadata": {
        "id": "JJYN3YXj61Ul"
      },
      "source": [
        "# Variable\n",
        "Es un espacio de memoria de la computadora, para almacenar valores que cambian a lo largo de la ejecución del programa. Este espacio de memoria esta referenciado por un identificador, el cual tienen ciertas reglas de nombrado.\n",
        "- No puede iniciar con numero.\n",
        "- No debe ser igual a alguna de las palabras reservadas.\n",
        "- Puede iniciar con _\n",
        "- Evitar nombres de variables largos.\n",
        "- Evitar muy cortos, ejemplo: x, y, i.\n",
        "- Usar notación snake_case.\n",
        "- "
      ]
    },
    {
      "cell_type": "code",
      "metadata": {
        "colab": {
          "base_uri": "https://localhost:8080/",
          "height": 52
        },
        "id": "BsfQnZbs7rz0",
        "outputId": "8624eda7-b5b9-4b6f-f5f1-b79c96258708"
      },
      "source": [
        "_2edad=12\n",
        "print(_2edad)\n",
        "\n",
        "\"\"\"\n",
        "No se puede usar una palabra reservada como identificador de variabl\n",
        "\n",
        "for=12\n",
        "print(for)\n",
        "\"\"\"\n",
        "\n"
      ],
      "execution_count": 9,
      "outputs": [
        {
          "output_type": "stream",
          "text": [
            "12\n"
          ],
          "name": "stdout"
        },
        {
          "output_type": "execute_result",
          "data": {
            "application/vnd.google.colaboratory.intrinsic+json": {
              "type": "string"
            },
            "text/plain": [
              "'\\nNo se puede usar una palabra reservada como identificador de variabl\\n\\nfor=12\\nprint(for)\\n'"
            ]
          },
          "metadata": {
            "tags": []
          },
          "execution_count": 9
        }
      ]
    },
    {
      "cell_type": "code",
      "metadata": {
        "id": "f4fCW7Fn9KrQ"
      },
      "source": [
        "\"\"\"\n",
        "La notacion snake case consta de formar el identificador de varible\n",
        " separadp las palabras del mismo con un guion bajo.\n",
        "\n",
        "Se recomienda que los identificadores se escriban en minusculas para las variables\n",
        " y en mayusculas para las constantes.\n",
        "\n",
        "Es decir si tenemos una variable para los dias de la semana, se escibiria asi:\n",
        "\n",
        "dias_de_la_semana=7\n",
        "dias_mes=31\n",
        "limite_maximo=100\n",
        "\n",
        "\n",
        "\"\"\""
      ],
      "execution_count": null,
      "outputs": []
    },
    {
      "cell_type": "markdown",
      "metadata": {
        "id": "kYqdaBph98Q-"
      },
      "source": [
        "# Tipos de datos\n",
        "- Numericos\n",
        "    - int (1,2,23456, etc.)\n",
        "    - float\n",
        "    - log\n",
        "    - complex  (Raices negativas)\n",
        "- Boolean: True o Flase\n",
        "- String cadenas de caracteres(\"\", '', \"\"\" \"\"\")\n",
        "- Listas([1,2,3,4] , [a,b,1,2,3])\n",
        "- Tuplas( (edad,23) , (3,4) )\n",
        "- Conjuntos\n",
        "- Diccionarios({\"Nombre: Juan\"})"
      ]
    },
    {
      "cell_type": "markdown",
      "metadata": {
        "id": "C8NOj_wwEBub"
      },
      "source": [
        "# Tipo de dato String\n",
        "\n",
        "Este tipo de dato permite almacenar cadenas de caracterres, como por ejemplo:\n",
        "\n",
        "```\n",
        "nombre='Jesus'\n",
        "lugar_nacimienot=\"México D.F., Tacuba\"\n",
        "frase_favorita= \"\"\"\n",
        "El conocimiento me persigue...\n",
        "pero...\n",
        "yo soy más rapido!!!\n",
        ":)\n",
        "\"\"\"\n",
        "````\n",
        "\n"
      ]
    },
    {
      "cell_type": "code",
      "metadata": {
        "colab": {
          "base_uri": "https://localhost:8080/"
        },
        "id": "nabNk885FFrQ",
        "outputId": "d635aebd-afd8-4827-ebe3-0081db5c8974"
      },
      "source": [
        "nombre = 'Jesús'\n",
        "lugar_nacimiento = \"Mexico D.F., Tacuba\"\n",
        "frase_favorita =\"\"\" \n",
        "El conocimiento\n",
        "me persigue,\n",
        "pero...\n",
        "yo soy más rápido!!!\n",
        ":)\n",
        "\"\"\"\n",
        "\n",
        "print(nombre)\n",
        "print(lugar_nacimiento)\n",
        "print(frase_favorita)"
      ],
      "execution_count": 12,
      "outputs": [
        {
          "output_type": "stream",
          "text": [
            "Jesús\n",
            "Mexico D.F., Tacuba\n",
            " \n",
            "El conocimiento\n",
            "me persigue,\n",
            "pero...\n",
            "yo soy más rápido!!!\n",
            ":)\n",
            "\n"
          ],
          "name": "stdout"
        }
      ]
    },
    {
      "cell_type": "markdown",
      "metadata": {
        "id": "hwBFc1_pFnHd"
      },
      "source": [
        "# String como arreglo\n",
        "Un string en python es almacenado como, el tipo de dato (estructura de datos a arreglo).\n",
        "\n",
        "Ejemplo la declaracion:\n",
        "```\n",
        "nombre=`Jesus'\n",
        "```\n",
        "El elemento 'J' es almacenado en un arreglo en la posicion 0.\n",
        "La en en la 1 y asi sucesivamente.\n",
        "\n",
        "### Selector\n",
        "La notacion para seleccionar un elemento del arreglo es:\n",
        "```\n",
        "[ 1 ]\n",
        "```\n",
        "\n",
        "Donde el valor interno debe ser un valor numerico entero."
      ]
    },
    {
      "cell_type": "code",
      "metadata": {
        "colab": {
          "base_uri": "https://localhost:8080/"
        },
        "id": "k6G2E3k2GHqI",
        "outputId": "f17ef475-6673-43ec-99e6-4a30b9321b60"
      },
      "source": [
        "nombre='Jesus'\n",
        "print(len(nombre))\n",
        "print(nombre)\n",
        "print(nombre[0])\n",
        "print(nombre[3])"
      ],
      "execution_count": 16,
      "outputs": [
        {
          "output_type": "stream",
          "text": [
            "5\n",
            "Jesus\n",
            "J\n",
            "u\n"
          ],
          "name": "stdout"
        }
      ]
    },
    {
      "cell_type": "markdown",
      "metadata": {
        "id": "iJuiL65nHUwZ"
      },
      "source": [
        "# Iterar sobre un String\n",
        "\n",
        "Se puede iterar sobre un String con un for de la forma:\n",
        "\n",
        "```\n",
        "for letra in range(lean(nombre)):\n",
        "   print(letra)\n",
        "```\n"
      ]
    },
    {
      "cell_type": "code",
      "metadata": {
        "colab": {
          "base_uri": "https://localhost:8080/"
        },
        "id": "DccmAA57IZI3",
        "outputId": "657dc923-fae5-47e2-9a29-b8603d903991"
      },
      "source": [
        "for indice in range(len(nombre)): # 0,1,2,3,4\n",
        "   print(indice, end=\" \")\n",
        "   print(nombre[indice])"
      ],
      "execution_count": 23,
      "outputs": [
        {
          "output_type": "stream",
          "text": [
            "0 J\n",
            "1 e\n",
            "2 s\n",
            "3 u\n",
            "4 s\n"
          ],
          "name": "stdout"
        }
      ]
    },
    {
      "cell_type": "markdown",
      "metadata": {
        "id": "LAbHmp-sKEuI"
      },
      "source": [
        "# Funcion range(inicio,stop,incremento)\n",
        "El inicio es opcional y por defecto tiene el valor 0\n",
        "\n",
        "El incremento tambien es opcional y por defecto es 1"
      ]
    },
    {
      "cell_type": "code",
      "metadata": {
        "colab": {
          "base_uri": "https://localhost:8080/"
        },
        "id": "CTY1_p1SKapM",
        "outputId": "324edcf6-2e5c-4b1d-ed86-1722424b5e96"
      },
      "source": [
        "for indice in range(1, len(nombre), 1):\n",
        "  print(nombre[indice])"
      ],
      "execution_count": 28,
      "outputs": [
        {
          "output_type": "stream",
          "text": [
            "e\n",
            "s\n",
            "u\n",
            "s\n"
          ],
          "name": "stdout"
        }
      ]
    },
    {
      "cell_type": "code",
      "metadata": {
        "colab": {
          "base_uri": "https://localhost:8080/"
        },
        "id": "akrrTplALGFF",
        "outputId": "f10dd091-bf55-4081-aedf-c51856e51670"
      },
      "source": [
        "for indice in range(4, -1, -1 ): # 4,3,2,1,0\n",
        "  print(nombre[indice])\n"
      ],
      "execution_count": 32,
      "outputs": [
        {
          "output_type": "stream",
          "text": [
            "s\n",
            "u\n",
            "s\n",
            "e\n",
            "J\n"
          ],
          "name": "stdout"
        }
      ]
    },
    {
      "cell_type": "markdown",
      "metadata": {
        "id": "K-tsCgVeLyyH"
      },
      "source": [
        "# String e indexpado negativo\n",
        "En python 3 se agrega una nueva caracteristica a los arreglos de las cadenas de caracteristicas, esta consta de la capacidad de indexar de forma neagtiva.\n",
        "\n",
        "La logica es la sigueinte.\n",
        "\n",
        "El ultimo elemento se le considera como indice-1,con lo cual se pondri referenciar el final de la cadena sin necesidad de saber el tamaño de la misma.\n",
        "\n",
        "```\n",
        "nombre='Jesus'\n",
        "print(nombre[4])\n",
        "print(nombre[-1])\n",
        "```"
      ]
    },
    {
      "cell_type": "code",
      "metadata": {
        "colab": {
          "base_uri": "https://localhost:8080/"
        },
        "id": "Vu3zsqB6NEyM",
        "outputId": "a1f3201d-a3ea-441b-b13a-9156174c7dc9"
      },
      "source": [
        "nombre='Jesus'\n",
        "print(nombre[4]) #indexado\n",
        "print(nombre[-1]) #indexado alternativo(negativos)\n",
        "print(\"\")\n",
        "for indice_alter in range(-1,-6,-1):\n",
        "  print(nombre[indice_alter])"
      ],
      "execution_count": 37,
      "outputs": [
        {
          "output_type": "stream",
          "text": [
            "s\n",
            "s\n",
            "\n",
            "s\n",
            "u\n",
            "s\n",
            "e\n",
            "J\n"
          ],
          "name": "stdout"
        }
      ]
    },
    {
      "cell_type": "markdown",
      "metadata": {
        "id": "QwD9OUPdPz8Y"
      },
      "source": [
        "# Slicing de cadena de caracteres.\n",
        "\n",
        "Esta caracteristica permite sacar secciones de una cadena con lasig sintaxis:\n",
        "\n",
        "\n",
        "---\n",
        "\n"
      ]
    },
    {
      "cell_type": "code",
      "metadata": {
        "colab": {
          "base_uri": "https://localhost:8080/"
        },
        "id": "qtJT5_LTQ58L",
        "outputId": "cbd50229-c4cd-46af-b4a4-5c53850f434c"
      },
      "source": [
        "facultad= \"Facultad de Estudios Superirores Aragon\"\n",
        "\n",
        "print(facultad)\n",
        "for indice in range( 10, 20, 1):\n",
        "  print(facultad[indice], end=\"\")\n",
        "\n",
        "  print(\"\\nCon Slicing\")\n",
        "  print(nombre[12:20:2])\n",
        "\n",
        "  #la palabra de con sling\n",
        "  print(facultad)"
      ],
      "execution_count": 45,
      "outputs": [
        {
          "output_type": "stream",
          "text": [
            "Facultad de Estudios Superirores Aragon\n",
            "e\n",
            "Con Slicing\n",
            "\n",
            " \n",
            "Con Slicing\n",
            "\n",
            "E\n",
            "Con Slicing\n",
            "\n",
            "s\n",
            "Con Slicing\n",
            "\n",
            "t\n",
            "Con Slicing\n",
            "\n",
            "u\n",
            "Con Slicing\n",
            "\n",
            "d\n",
            "Con Slicing\n",
            "\n",
            "i\n",
            "Con Slicing\n",
            "\n",
            "o\n",
            "Con Slicing\n",
            "\n",
            "s\n",
            "Con Slicing\n",
            "\n"
          ],
          "name": "stdout"
        }
      ]
    }
  ]
}