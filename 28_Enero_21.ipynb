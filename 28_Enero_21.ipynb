{
  "nbformat": 4,
  "nbformat_minor": 0,
  "metadata": {
    "colab": {
      "name": "28_Enero_21.ipynb",
      "provenance": [],
      "authorship_tag": "ABX9TyOg91iSPmVHr9f9xPpSfWr1",
      "include_colab_link": true
    },
    "kernelspec": {
      "name": "python3",
      "display_name": "Python 3"
    }
  },
  "cells": [
    {
      "cell_type": "markdown",
      "metadata": {
        "id": "view-in-github",
        "colab_type": "text"
      },
      "source": [
        "<a href=\"https://colab.research.google.com/github/SebastianG30/cyp_2021/blob/main/28_Enero_21.ipynb\" target=\"_parent\"><img src=\"https://colab.research.google.com/assets/colab-badge.svg\" alt=\"Open In Colab\"/></a>"
      ]
    },
    {
      "cell_type": "markdown",
      "metadata": {
        "id": "qlG7hGGlBil0"
      },
      "source": [
        "# Tuplas\n",
        "\n",
        "- Tipo de dato lineal, estructura de datos\n",
        "- No mutable\n",
        "- Puede contener de 0 a N elementos\n",
        "- Se declara con '('y')'\n",
        "- No puedes agregar ni eliminar elementos.\n",
        "- Pueden ser anidadas.\n",
        "- Los argumentos a una función son enviadas como tuplas.\n"
      ]
    },
    {
      "cell_type": "code",
      "metadata": {
        "colab": {
          "base_uri": "https://localhost:8080/"
        },
        "id": "l2KgldqHCN4X",
        "outputId": "979449c0-9211-4dc1-e8f9-307ddc2c2d60"
      },
      "source": [
        "frutas=('Sandia','Melon','Limon','Mango','Melon')\n",
        "print(frutas)\n",
        "print(frutas[1:3:1])\n",
        "print(frutas.count('melon'))\n",
        "\n",
        "# Son inmutables\n",
        "#frutas[1]=\"manzana\"\n",
        "\n",
        "# Para que se usan?\n",
        "conexion=('132.248.12.12',3306,'cyp_bd',\"usr_test\",'1234dios')\n",
        "print(f\"usuario:{conexion[3]} y passwd:{conexion[4]}\")\n"
      ],
      "execution_count": 21,
      "outputs": [
        {
          "output_type": "stream",
          "text": [
            "('Sandia', 'Melon', 'Limon', 'Mango', 'Melon')\n",
            "('Melon', 'Limon')\n",
            "0\n",
            "usuario:usr_test y passwd:1234dios\n"
          ],
          "name": "stdout"
        }
      ]
    },
    {
      "cell_type": "code",
      "metadata": {
        "colab": {
          "base_uri": "https://localhost:8080/"
        },
        "id": "9tCQ5I_WDbs1",
        "outputId": "64e86de8-1ee5-4fd1-8f1d-d3b0f87c8a6b"
      },
      "source": [
        "print(dir(frutas))"
      ],
      "execution_count": 8,
      "outputs": [
        {
          "output_type": "stream",
          "text": [
            "['__add__', '__class__', '__contains__', '__delattr__', '__dir__', '__doc__', '__eq__', '__format__', '__ge__', '__getattribute__', '__getitem__', '__getnewargs__', '__gt__', '__hash__', '__init__', '__init_subclass__', '__iter__', '__le__', '__len__', '__lt__', '__mul__', '__ne__', '__new__', '__reduce__', '__reduce_ex__', '__repr__', '__rmul__', '__setattr__', '__sizeof__', '__str__', '__subclasshook__', 'count', 'index']\n"
          ],
          "name": "stdout"
        }
      ]
    },
    {
      "cell_type": "markdown",
      "metadata": {
        "id": "zJQZGHECFtw7"
      },
      "source": [
        "# Diccionarios\n",
        "- Estructura de datos semi lineal.\n",
        "- Formada por pares, llave - valor.\n",
        "- Equivalente al tupo de dato JSON, de JavaScript.\n",
        "- Utiliza organización por función de disperción.\n",
        "- Se declara con los elementos '{'y'}'\n",
        "- El selector usa valores de tipo string(llave)\n",
        "- No se puede saleccionar por offset [1]\n",
        "- Son mutables."
      ]
    },
    {
      "cell_type": "code",
      "metadata": {
        "id": "DuPHAxwiG_55"
      },
      "source": [
        "#  kareli\n",
        "alumno = {    'nombre'  : 'Juan Pérez'  ,\n",
        "          'edad' : 18, \n",
        "          'Matricula': 312193,\n",
        "          'calificaciones' : {'Mate': 8 , 'ciencias': 9, 'ingles': 8 },\n",
        "          'aprovado' : True,\n",
        "          'direccion': {\n",
        "                        'calle':'Rancho seco',\n",
        "                        'numero': 's/n',\n",
        "                        'colonia': 'impulsora popular avicola',\n",
        "                        'municipio': 'Mi-nezota',\n",
        "                        'estado':{\n",
        "                                   'clave':15,\n",
        "                                   'nombre_clave':'MEX',\n",
        "                                   'nombre':\"Estado de México\"\n",
        "                                  }\n",
        "                       }\n",
        "          }"
      ],
      "execution_count": 36,
      "outputs": []
    },
    {
      "cell_type": "code",
      "metadata": {
        "colab": {
          "base_uri": "https://localhost:8080/"
        },
        "id": "29U2DU5fMjo_",
        "outputId": "c44ba5b5-d135-4a08-e40a-45a3d381bb2e"
      },
      "source": [
        "materia = [\"Algebra\", \"Computadoras y Programacion\", \"Calculo Diferencial e Integral\", \"Introduccion a la Ingenieria\", \"Geometria Analitica\"]\n",
        "alumno = {\"ID\" : (123456789), \"Nombre\" : \"Yael\", \"Apellido\" : \"Castillo\", \"Edad\" : 20, \"Escuela\" : \"FES Aragon\", \"Materia\" : materia}\n",
        "for i in alumno:\n",
        "    print(f\"Clave: {i} - Valor: {alumno[i]}\")"
      ],
      "execution_count": 26,
      "outputs": [
        {
          "output_type": "stream",
          "text": [
            "Clave: ID - Valor: 123456789\n",
            "Clave: Nombre - Valor: Yael\n",
            "Clave: Apellido - Valor: Castillo\n",
            "Clave: Edad - Valor: 20\n",
            "Clave: Escuela - Valor: FES Aragon\n",
            "Clave: Materia - Valor: ['Algebra', 'Computadoras y Programacion', 'Calculo Diferencial e Integral', 'Introduccion a la Ingenieria', 'Geometria Analitica']\n"
          ],
          "name": "stdout"
        }
      ]
    },
    {
      "cell_type": "code",
      "metadata": {
        "colab": {
          "base_uri": "https://localhost:8080/"
        },
        "id": "bZLb3WzJMnjd",
        "outputId": "10416436-2356-4bb6-d670-63a54cc1a919"
      },
      "source": [
        "alumno = {'nombre':'Juan Pérez','edad':18,'altura':1.71,'estatus':'Aprobado','numeros':[555645902, 55326372]}\n",
        "print(alumno)\n",
        "print( alumno ['numeros'])"
      ],
      "execution_count": 27,
      "outputs": [
        {
          "output_type": "stream",
          "text": [
            "{'nombre': 'Juan Pérez', 'edad': 18, 'altura': 1.71, 'estatus': 'Aprobado', 'numeros': [555645902, 55326372]}\n",
            "[555645902, 55326372]\n"
          ],
          "name": "stdout"
        }
      ]
    },
    {
      "cell_type": "code",
      "metadata": {
        "id": "2p1MapduUSuG"
      },
      "source": [
        "cliente= {}\n"
      ],
      "execution_count": null,
      "outputs": []
    },
    {
      "cell_type": "code",
      "metadata": {
        "colab": {
          "base_uri": "https://localhost:8080/"
        },
        "id": "VnAsd8LeVDcE",
        "outputId": "1fab60b4-dff8-41e1-a874-59544062cef2"
      },
      "source": [
        "funciones= dir(dict)\n",
        "for funcion in funciones:\n",
        "  print(funcion)"
      ],
      "execution_count": 28,
      "outputs": [
        {
          "output_type": "stream",
          "text": [
            "__class__\n",
            "__contains__\n",
            "__delattr__\n",
            "__delitem__\n",
            "__dir__\n",
            "__doc__\n",
            "__eq__\n",
            "__format__\n",
            "__ge__\n",
            "__getattribute__\n",
            "__getitem__\n",
            "__gt__\n",
            "__hash__\n",
            "__init__\n",
            "__init_subclass__\n",
            "__iter__\n",
            "__le__\n",
            "__len__\n",
            "__lt__\n",
            "__ne__\n",
            "__new__\n",
            "__reduce__\n",
            "__reduce_ex__\n",
            "__repr__\n",
            "__setattr__\n",
            "__setitem__\n",
            "__sizeof__\n",
            "__str__\n",
            "__subclasshook__\n",
            "clear\n",
            "copy\n",
            "fromkeys\n",
            "get\n",
            "items\n",
            "keys\n",
            "pop\n",
            "popitem\n",
            "setdefault\n",
            "update\n",
            "values\n"
          ],
          "name": "stdout"
        }
      ]
    },
    {
      "cell_type": "markdown",
      "metadata": {
        "id": "X7rxiBV3VDoD"
      },
      "source": [
        "# Manipulcion de los pares llave valor.\n",
        "Para ello se emplean los metodos:\n",
        "- keys () te regresa una tupla con los strings llave del diccionario.\n",
        "- values Te regresa solo los valores\n",
        "- items() Te regresa los pares"
      ]
    },
    {
      "cell_type": "code",
      "metadata": {
        "colab": {
          "base_uri": "https://localhost:8080/"
        },
        "id": "8eKm23yAWM5C",
        "outputId": "f20b5ebd-4f79-4325-a6e7-529104bb1fe8"
      },
      "source": [
        "print(alumno)\n",
        "llaves= alumno.keys()\n",
        "print(llaves)\n",
        "for elem in llaves:\n",
        "  print(elem)\n",
        "  print(alumno[elem])\n",
        "#print(help(llaves))"
      ],
      "execution_count": 34,
      "outputs": [
        {
          "output_type": "stream",
          "text": [
            "{'nombre': 'Juan Pérez', 'edad': 18, 'altura': 1.71, 'estatus': 'Aprobado', 'numeros': [555645902, 55326372]}\n",
            "dict_keys(['nombre', 'edad', 'altura', 'estatus', 'numeros'])\n",
            "nombre\n",
            "Juan Pérez\n",
            "edad\n",
            "18\n",
            "altura\n",
            "1.71\n",
            "estatus\n",
            "Aprobado\n",
            "numeros\n",
            "[555645902, 55326372]\n"
          ],
          "name": "stdout"
        }
      ]
    }
  ]
}