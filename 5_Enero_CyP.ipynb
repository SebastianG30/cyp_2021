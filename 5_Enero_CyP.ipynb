{
  "nbformat": 4,
  "nbformat_minor": 0,
  "metadata": {
    "colab": {
      "name": "5_Enero_CyP.ipynb",
      "provenance": [],
      "authorship_tag": "ABX9TyPhOqaAzGpPiZmqoWzvPBKw",
      "include_colab_link": true
    },
    "kernelspec": {
      "name": "python3",
      "display_name": "Python 3"
    }
  },
  "cells": [
    {
      "cell_type": "markdown",
      "metadata": {
        "id": "view-in-github",
        "colab_type": "text"
      },
      "source": [
        "<a href=\"https://colab.research.google.com/github/SebastianG30/cyp_2021/blob/main/5_Enero_CyP.ipynb\" target=\"_parent\"><img src=\"https://colab.research.google.com/assets/colab-badge.svg\" alt=\"Open In Colab\"/></a>"
      ]
    },
    {
      "cell_type": "code",
      "metadata": {
        "colab": {
          "base_uri": "https://localhost:8080/",
          "height": 470
        },
        "id": "zJT9mii9jCRW",
        "outputId": "c729d6d8-605f-44af-d86f-d058848e8343"
      },
      "source": [
        "sueldos=[0.0 for x in range(7)]\n",
        "print(sueldos)\n",
        "sueldos[0]=12.3\n",
        "sueldos[1]=32.3\n",
        "sueldos[2]=43.3\n",
        "sueldos[3]=11.3\n",
        "sueldos[4]=77.3\n",
        "sueldos[5]=88.3\n",
        "sueldos[6]=99.3\n",
        "print(sueldos)\n",
        "\n",
        "\n",
        "\n",
        "s=[0.0 for x in range(7)] #generador de python\n",
        "for j in range(7):\n",
        "  sueldos[j]=float(input(\"Introduce un sueldo:\"))\n",
        "  print(sueldos)\n",
        "\n",
        "#Automatizar el recorrido de los elementos del arreglo\n",
        "\n",
        "for i in range(7):\n",
        "  print(f\"El trabajador {int(i)+1} gana ${sueldo[i]}\")"
      ],
      "execution_count": 50,
      "outputs": [
        {
          "output_type": "stream",
          "text": [
            "[0.0, 0.0, 0.0, 0.0, 0.0, 0.0, 0.0]\n",
            "[12.3, 32.3, 43.3, 11.3, 77.3, 88.3, 99.3]\n",
            "Introduce un sueldo:3\n",
            "[3.0, 32.3, 43.3, 11.3, 77.3, 88.3, 99.3]\n",
            "Introduce un sueldo:3\n",
            "[3.0, 3.0, 43.3, 11.3, 77.3, 88.3, 99.3]\n",
            "Introduce un sueldo:3\n",
            "[3.0, 3.0, 3.0, 11.3, 77.3, 88.3, 99.3]\n",
            "Introduce un sueldo:3\n",
            "[3.0, 3.0, 3.0, 3.0, 77.3, 88.3, 99.3]\n",
            "Introduce un sueldo:1\n",
            "[3.0, 3.0, 3.0, 3.0, 1.0, 88.3, 99.3]\n",
            "Introduce un sueldo:2\n",
            "[3.0, 3.0, 3.0, 3.0, 1.0, 2.0, 99.3]\n",
            "Introduce un sueldo:2\n",
            "[3.0, 3.0, 3.0, 3.0, 1.0, 2.0, 2.0]\n"
          ],
          "name": "stdout"
        },
        {
          "output_type": "error",
          "ename": "NameError",
          "evalue": "ignored",
          "traceback": [
            "\u001b[0;31m---------------------------------------------------------------------------\u001b[0m",
            "\u001b[0;31mNameError\u001b[0m                                 Traceback (most recent call last)",
            "\u001b[0;32m<ipython-input-50-94c72921f556>\u001b[0m in \u001b[0;36m<module>\u001b[0;34m()\u001b[0m\n\u001b[1;32m     20\u001b[0m \u001b[0;34m\u001b[0m\u001b[0m\n\u001b[1;32m     21\u001b[0m \u001b[0;32mfor\u001b[0m \u001b[0mi\u001b[0m \u001b[0;32min\u001b[0m \u001b[0mrange\u001b[0m\u001b[0;34m(\u001b[0m\u001b[0;36m7\u001b[0m\u001b[0;34m)\u001b[0m\u001b[0;34m:\u001b[0m\u001b[0;34m\u001b[0m\u001b[0;34m\u001b[0m\u001b[0m\n\u001b[0;32m---> 22\u001b[0;31m   \u001b[0mprint\u001b[0m\u001b[0;34m(\u001b[0m\u001b[0;34mf\"El trabajador {int(i)+1} gana ${sueldo[i]}\"\u001b[0m\u001b[0;34m)\u001b[0m\u001b[0;34m\u001b[0m\u001b[0;34m\u001b[0m\u001b[0m\n\u001b[0m",
            "\u001b[0;31mNameError\u001b[0m: name 'sueldo' is not defined"
          ]
        }
      ]
    },
    {
      "cell_type": "code",
      "metadata": {
        "colab": {
          "base_uri": "https://localhost:8080/"
        },
        "id": "-0tvTIdTosXm",
        "outputId": "584b4fcb-3288-4244-8a02-79c742837170"
      },
      "source": [
        "# PROBLEMA 4.1\n",
        "\n",
        "MAXIMO  = 7\n",
        "sueldos = [0.0 for x in range(MAXIMO)]\n",
        "SUMA = 0.0\n",
        "PROM = 0.0\n",
        "\n",
        "for i in range(MAXIMO):\n",
        "  sueldos[i] = float (input(\"Dame el sueldo: \"))\n",
        "\n",
        "for i in range(MAXIMO):\n",
        "  print(f\"Trabajador {i + 1}, gana {sueldos[i]}\") \n",
        "\n",
        "for i in range(MAXIMO):\n",
        "  SUMA = SUMA + sueldos[i]\n",
        "PROM = SUMA / MAXIMO\n",
        "print(f\"El promedio de sueldo es {PROM}\")\n",
        "\n",
        "for i in range(MAXIMO):\n",
        "  if sueldos[i] > PROM:\n",
        "    print(f\"El trabajador {i + 1} tiene un sueldo mayor al promedio\")"
      ],
      "execution_count": 25,
      "outputs": [
        {
          "output_type": "stream",
          "text": [
            "Dame el sueldo: 4\n",
            "Dame el sueldo: 5\n",
            "Dame el sueldo: 4\n",
            "Dame el sueldo: 5\n",
            "Dame el sueldo: 4\n",
            "Dame el sueldo: 5\n",
            "Dame el sueldo: 4\n",
            "Trabajador 1, gana 4.0\n",
            "Trabajador 2, gana 5.0\n",
            "Trabajador 3, gana 4.0\n",
            "Trabajador 4, gana 5.0\n",
            "Trabajador 5, gana 4.0\n",
            "Trabajador 6, gana 5.0\n",
            "Trabajador 7, gana 4.0\n",
            "El promedio de sueldo es 4.428571428571429\n",
            "El trabajador 2 tiene un sueldo mayor al promedio\n",
            "El trabajador 4 tiene un sueldo mayor al promedio\n",
            "El trabajador 6 tiene un sueldo mayor al promedio\n"
          ],
          "name": "stdout"
        }
      ]
    },
    {
      "cell_type": "code",
      "metadata": {
        "colab": {
          "base_uri": "https://localhost:8080/"
        },
        "id": "w8plhw-Zsr_x",
        "outputId": "668e729f-0cb6-4093-d6e5-3cebe41b9284"
      },
      "source": [
        "#Hacer un programa que solicite 5 valores enteros positivos y\n",
        "#una vez que se capturen por teclado, el programa determine\n",
        "#1.- cual es el mayor\n",
        "#2.- cual es el menor\n",
        "#3.- cual es el promedio:\n",
        "\n",
        "Max = 5\n",
        "valor =  [0.0 for x in range(Max)]\n",
        "sum = 0.0\n",
        "prom = 0.0\n",
        "M = 0\n",
        "m = 100000000\n",
        "\n",
        "for i in range(Max):\n",
        "  valor[i] = int(input(\"Dame un valor entero positivo: \"))\n",
        "  if valor[i] > M:\n",
        "    M = valor[i]\n",
        "  elif valor[i] < m:\n",
        "    m = valor[i]\n",
        "\n",
        "for i in range(Max):\n",
        "  sum = sum + valor[i]\n",
        "\n",
        "prom = sum / Max\n",
        "\n",
        "print(f\"El numero mayor es {M}\")\n",
        "print(f\"El numero menor es {m}\")\n",
        "print(f\"El promedio es {prom}\")"
      ],
      "execution_count": 26,
      "outputs": [
        {
          "output_type": "stream",
          "text": [
            "Dame un valor entero positivo: 4\n",
            "Dame un valor entero positivo: 2\n",
            "Dame un valor entero positivo: 1\n",
            "Dame un valor entero positivo: 5\n",
            "Dame un valor entero positivo: 6\n",
            "El numero mayor es 6\n",
            "El numero menor es 1\n",
            "El promedio es 3.6\n"
          ],
          "name": "stdout"
        }
      ]
    },
    {
      "cell_type": "code",
      "metadata": {
        "colab": {
          "base_uri": "https://localhost:8080/"
        },
        "id": "BoqAQYmiw6sO",
        "outputId": "b4af2174-1520-4586-a535-90d86038049b"
      },
      "source": [
        "#Problema 4.1\n",
        "N=int(input(\"Ingrese el numero de elementos del arreglo: \"))\n",
        "\n",
        "if 1 <=N and N <=500:\n",
        "  VEC=[0 for x in range(N)]\n",
        "  print(VEC)\n",
        "  for I in range(N):\n",
        "    VEC[I]=int(input(\"Ingrese valor:\" + str(I+1) + \":\"))\n",
        "  print(\"Lista de numeros sin repeticiones:\")\n",
        "  I=0\n",
        "  while I in range(N):\n",
        "    print(I, \"=\",VEC[I])\n",
        "    REPET= VEC[I]\n",
        "    while I < N and REPET == VEC[I]:\n",
        "      #print(\"Incrementa I\")\n",
        "      I= I+1\n",
        "    I=I+1\n",
        "\n",
        "else:\n",
        "  print(\"El número de elementos del arreglo es incorrecto\")\n",
        "\n",
        "\n"
      ],
      "execution_count": 48,
      "outputs": [
        {
          "output_type": "stream",
          "text": [
            "Ingrese el numero de elementos del arreglo: 10\n",
            "[0, 0, 0, 0, 0, 0, 0, 0, 0, 0]\n",
            "Ingrese valor:1:2\n",
            "Ingrese valor:2:3\n",
            "Ingrese valor:3:3\n",
            "Ingrese valor:4:3\n",
            "Ingrese valor:5:10\n",
            "Ingrese valor:6:20\n",
            "Ingrese valor:7:20\n",
            "Ingrese valor:8:40\n",
            "Ingrese valor:9:43\n",
            "Ingrese valor:10:51\n",
            "Lista de numeros sin repeticiones:\n",
            "0 = 2\n",
            "Incrementa I\n",
            "2 = 3\n",
            "Incrementa I\n",
            "Incrementa I\n",
            "5 = 20\n",
            "Incrementa I\n",
            "Incrementa I\n",
            "8 = 43\n",
            "Incrementa I\n"
          ],
          "name": "stdout"
        }
      ]
    }
  ]
}