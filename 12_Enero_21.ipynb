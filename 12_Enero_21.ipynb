{
  "nbformat": 4,
  "nbformat_minor": 0,
  "metadata": {
    "colab": {
      "name": "12_Enero_21.ipynb",
      "provenance": [],
      "authorship_tag": "ABX9TyMixTzLwsZ9U4SOeom1IrWe",
      "include_colab_link": true
    },
    "kernelspec": {
      "name": "python3",
      "display_name": "Python 3"
    }
  },
  "cells": [
    {
      "cell_type": "markdown",
      "metadata": {
        "id": "view-in-github",
        "colab_type": "text"
      },
      "source": [
        "<a href=\"https://colab.research.google.com/github/SebastianG30/cyp_2021/blob/main/12_Enero_21.ipynb\" target=\"_parent\"><img src=\"https://colab.research.google.com/assets/colab-badge.svg\" alt=\"Open In Colab\"/></a>"
      ]
    },
    {
      "cell_type": "code",
      "metadata": {
        "id": "ZWfAwHe5mWWb"
      },
      "source": [
        ""
      ],
      "execution_count": null,
      "outputs": []
    },
    {
      "cell_type": "markdown",
      "metadata": {
        "id": "ZEr9ef-xpWpb"
      },
      "source": [
        "# Introducción  a Python\n",
        "- Creado en los 90´s por Guido Van R.\n",
        "- En el 2000 python mejora y tienen nuevas características.\n",
        "- En el 2020 deja de ser la version oficial python 2.7 y solo se le dara soporte a python 3 en adelante.\n",
        "\n",
        "##Características de Python\n",
        "1. Lenguaje de proposito general.\n",
        "2. Interpretado y no compilado.\n",
        "3. Tipos de datos dinamicos. (numericos, cadena, bool, entre otros).\n",
        "4. Multiplataforma.\n",
        "5. Lenguaje multi-paradigma. (Imperativa, POO y funcional)\n",
        "6. Código es estructurado por indentación.\n",
        "\n",
        "```\n",
        "if a > 10:\n",
        "   print(\"Hola\")\n",
        "print(\"Hola dos\")\n",
        "`````\n",
        "\n",
        "## Principios zen de Python\n",
        "\n",
        "Son las características que guian el diseño del lenguaje de programación Python.\n",
        "\n",
        "\n"
      ]
    },
    {
      "cell_type": "code",
      "metadata": {
        "colab": {
          "base_uri": "https://localhost:8080/"
        },
        "id": "myg0l6c8unDB",
        "outputId": "b9793412-9446-45f3-c20b-66299d19bc5e"
      },
      "source": [
        "# Primer programa en Python 3\n",
        "\n",
        "nombre=\"Jose\"\n",
        "edad=18\n",
        "print(\"Hola\",nombre,edad)"
      ],
      "execution_count": 2,
      "outputs": [
        {
          "output_type": "stream",
          "text": [
            "Hola Jose 18\n"
          ],
          "name": "stdout"
        }
      ]
    },
    {
      "cell_type": "markdown",
      "metadata": {
        "id": "V-x26n9MvopB"
      },
      "source": [
        "# La función print()\n",
        "\n",
        "Es una de las funciones mas empleadas en programación y busca enviar datos a la salida estandar(monitor)\n",
        "\n",
        "### Formas de uso\n",
        "1. Con comas\n",
        "1. Con signos +\n",
        "1. .format()\n",
        "1. El operador f\"  \"\n",
        "\n",
        "#### Con comas\n",
        "Concatena los argumentos enviados a print y les agrega un espacio.\n",
        "\n",
        "#### Con signos +\n",
        "Concatena los valores sin espacio y sin hacer conversión de tipos.\n",
        "\n",
        "#### Con la función format()\n",
        "Permite darle formato a la salida de la impresión de variables. Emplea la función format() de el tipo de dato string.\n",
        "```\n",
        "\" cadena {} a {} forma{}tear \".format(v2,v2,vn)\n",
        "`````\n",
        "\n",
        "Emplea como comodines para sustituir valores los signos {}.\n",
        "\n",
        "#### Con el operador f\"\"\n",
        "\n",
        "Es una variante de la forma anterior pero enmascarando la función format().\n",
        "\n",
        "print(f\"adadasd {var} adadasd {var2} adadasd {varn}\")"
      ]
    },
    {
      "cell_type": "code",
      "metadata": {
        "colab": {
          "base_uri": "https://localhost:8080/"
        },
        "id": "NexkKgM2wTRC",
        "outputId": "62b82b5b-e28f-48a0-cbd3-d0377e207b1d"
      },
      "source": [
        "print(\"Hola\", nombre, edad)\n",
        "print(\"Hola \" + nombre + \" \"+ str(edad))\n",
        "# Nombre: Jose, con una edad de: 18 años.\n",
        "print(\"Nombre:\", nombre, \"con una edad de:\" , edad, \"años\")\n",
        "print(\"Nombre:\", nombre + \" con una edad de: \" + str(edad) + \" años\")\n",
        "# Con format()\n",
        "print(\"Nombre: {0} con una edad de: {1} años.\".format(nombre,edad))\n",
        "#Con el operador f\"\"\n",
        "print(f\"Nombre: {nombre} con una edad de: {edad} años.\")\n"
      ],
      "execution_count": 19,
      "outputs": [
        {
          "output_type": "stream",
          "text": [
            "Hola Jose 18\n",
            "Hola Jose 18\n",
            "Nombre: Jose con una edad de: 18 años\n",
            "Nombre: Jose con una edad de: 18 años\n",
            "Nombre: Jose con una edad de: 18 años.\n",
            "Nombre: Jose con una edad de: 18 años.\n"
          ],
          "name": "stdout"
        }
      ]
    },
    {
      "cell_type": "markdown",
      "metadata": {
        "id": "jof2KBks2HKW"
      },
      "source": [
        "# Función print() y los caracteres de escape.\n",
        "- \\n salto de linea\n",
        "- \\t tabulador\n",
        "- \\\\ imprimir la diagonal \\\n",
        "- \\' y \\\"\n",
        "- \\uxxxx\n",
        "- \\uxxxxxxxx\n",
        " "
      ]
    },
    {
      "cell_type": "code",
      "metadata": {
        "colab": {
          "base_uri": "https://localhost:8080/"
        },
        "id": "Y3DBmfP82YiF",
        "outputId": "5182e94c-a3da-46b4-a168-db30f45c5c2b"
      },
      "source": [
        "print('\"')\n",
        "print(\"\\\"\")\n",
        "print(\"Nombre: Jose\\n\\tcon una edad \\de: 18 años.\")\n",
        "# Caracteres unicode\n",
        "\n",
        "print(\"Hola \\u2661\")"
      ],
      "execution_count": 34,
      "outputs": [
        {
          "output_type": "stream",
          "text": [
            "\"\n",
            "\"\n",
            "Nombre: Jose\n",
            "\tcon una edad \\de: 18 años.\n",
            "Hola ♡\n"
          ],
          "name": "stdout"
        }
      ]
    },
    {
      "cell_type": "markdown",
      "metadata": {
        "id": "q5AeD6068EQ1"
      },
      "source": [
        "# print y saldo de linea en el argumento.\n",
        "\n",
        "print([lista de variables] , end=\"\\n\")\n"
      ]
    },
    {
      "cell_type": "code",
      "metadata": {
        "colab": {
          "base_uri": "https://localhost:8080/"
        },
        "id": "-uAq04WL8Tb5",
        "outputId": "ddce208f-c24f-4469-db02-aa14a5c7de58"
      },
      "source": [
        "print(\"Hola \" , end=\"\\u13CD\")\n",
        "print(\"Mundo \" , end=\"++++\")\n",
        "print(\"Fin\" , end=\"\\n\")"
      ],
      "execution_count": 41,
      "outputs": [
        {
          "output_type": "stream",
          "text": [
            "Hola ᏍMundo ++++Fin\n"
          ],
          "name": "stdout"
        }
      ]
    },
    {
      "cell_type": "markdown",
      "metadata": {
        "id": "huq6We7O9iaH"
      },
      "source": [
        "# Comentarios en Python.\n",
        "Un comentario en programación es un texto especial que es ignorado por el interprete o compilador(Segun sea el caso) y es empleado para que el programador documente sus algoritmos.\n",
        "\n",
        "Existen de dos tipos: De linea simple y de multiples lineas.\n",
        "\n",
        "En Python.\n",
        "- Linea simple emplea #\n",
        "```\n",
        "# Comentario de linea simple\n",
        "```\n",
        "\"\"\"\n",
        "```\n",
        "- Linea multiple\n",
        "```\n",
        "\"\"\"\n",
        "esto\n",
        "es un comentario de\n",
        "linea\n",
        "multiple\n",
        "\"\"\"\n",
        "```"
      ]
    },
    {
      "cell_type": "code",
      "metadata": {
        "colab": {
          "base_uri": "https://localhost:8080/"
        },
        "id": "g5sXkwET-DOV",
        "outputId": "3ad244c1-471c-4792-80fb-3a043b91358c"
      },
      "source": [
        "print(\"Hola\")\n",
        "#print(\"Hola\")\n",
        "#Cualquier cosa\n",
        "print(\"Hola\")\n",
        "print(\"Hola\") #esta linea imprime hola\n",
        "print(\"Hola\")\n",
        "print(\"Hola\")\n",
        "\"\"\"\n",
        "esto es\n",
        "un comentario de multiple linea. Ideal \n",
        "para cuando se desea explicar algo a fondo que requiera mayor detalles.\n",
        "\"\"\"\n",
        "print(\"Hola\")\n",
        "print(\"Hola\")\n"
      ],
      "execution_count": 42,
      "outputs": [
        {
          "output_type": "stream",
          "text": [
            "Hola\n",
            "Hola\n",
            "Hola\n",
            "Hola\n",
            "Hola\n",
            "Hola\n",
            "Hola\n"
          ],
          "name": "stdout"
        }
      ]
    }
  ]
}