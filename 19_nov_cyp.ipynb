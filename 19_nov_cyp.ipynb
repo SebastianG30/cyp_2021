{
  "nbformat": 4,
  "nbformat_minor": 0,
  "metadata": {
    "colab": {
      "name": "19_nov_cyp.ipynb",
      "provenance": [],
      "authorship_tag": "ABX9TyPcubTs35h+k9Ho5I+sGerF",
      "include_colab_link": true
    },
    "kernelspec": {
      "name": "python3",
      "display_name": "Python 3"
    }
  },
  "cells": [
    {
      "cell_type": "markdown",
      "metadata": {
        "id": "view-in-github",
        "colab_type": "text"
      },
      "source": [
        "<a href=\"https://colab.research.google.com/github/SebastianG30/cyp_2021/blob/main/19_nov_cyp.ipynb\" target=\"_parent\"><img src=\"https://colab.research.google.com/assets/colab-badge.svg\" alt=\"Open In Colab\"/></a>"
      ]
    },
    {
      "cell_type": "code",
      "metadata": {
        "colab": {
          "base_uri": "https://localhost:8080/"
        },
        "id": "EnXj1hRwg34m",
        "outputId": "0a091b9a-3c2e-451d-dd1b-039c8e8ce093"
      },
      "source": [
        "#Concepto de asignacion, \n",
        "I=0\n",
        "I= I+1\n",
        "I= I+1\n",
        "print(f\"I= {I}\")\n",
        "J=5**2/3\n",
        "print(f\"J={J}\")"
      ],
      "execution_count": 5,
      "outputs": [
        {
          "output_type": "stream",
          "text": [
            "I= 2\n",
            "J=8.333333333333334\n"
          ],
          "name": "stdout"
        }
      ]
    },
    {
      "cell_type": "code",
      "metadata": {
        "colab": {
          "base_uri": "https://localhost:8080/"
        },
        "id": "B5-svDnemx8I",
        "outputId": "2c79f3a4-51cb-4595-e599-7d934d50671b"
      },
      "source": [
        "\n",
        "A=0\n",
        "B=0\n",
        "C=0\n",
        "D=0\n",
        "\n",
        "A= int(input(\"Dame un valor entero:\"))\n",
        "B= int(input(\"Dame un valor entero:\"))\n",
        "C= int(input(\"Dame un valor entero:\"))\n",
        "D= int(input(\"Dame un valor entero:\"))\n",
        "\n",
        "print(D)\n",
        "print(C)\n",
        "print(B)\n",
        "print(A)"
      ],
      "execution_count": 8,
      "outputs": [
        {
          "output_type": "stream",
          "text": [
            "Dame un valor entero:10\n",
            "Dame un valor entero:20\n",
            "Dame un valor entero:30\n",
            "Dame un valor entero:40\n",
            "40\n",
            "30\n",
            "20\n",
            "10\n"
          ],
          "name": "stdout"
        }
      ]
    },
    {
      "cell_type": "code",
      "metadata": {
        "colab": {
          "base_uri": "https://localhost:8080/"
        },
        "id": "3djBkKDRpPMe",
        "outputId": "7e0a28d7-dd8a-4cf1-a24c-3c9cdf36746b"
      },
      "source": [
        "#Ejemplo 1.7\n",
        "A=0\n",
        "B=0\n",
        "A= int(input(\"Dame un entero:\"))\n",
        "B= int(input(\"Dame otro entero:\"))\n",
        "RES=(A+B)**2/3\n",
        "print(RES)"
      ],
      "execution_count": 12,
      "outputs": [
        {
          "output_type": "stream",
          "text": [
            "Dame un entero:8\n",
            "Dame otro entero:7\n",
            "75.0\n"
          ],
          "name": "stdout"
        }
      ]
    },
    {
      "cell_type": "code",
      "metadata": {
        "colab": {
          "base_uri": "https://localhost:8080/"
        },
        "id": "kjjdI8F1uDB7",
        "outputId": "77bc5ee3-8eaf-4013-e8d0-32ea68e8ba06"
      },
      "source": [
        "#Ejemplo 1.8\n",
        "\n",
        "Mat=0\n",
        "CAL1=0\n",
        "CAL2=0\n",
        "CAL3=0\n",
        "CAL4=0\n",
        "CAL5=0\n",
        "\n",
        "Mat=int(input(\"Dame tu matricula:\"))\n",
        "CAL1= float(input(\"Dame la calificación 1:\"))\n",
        "CAL2= float(input(\"Dame la calificación 2:\"))\n",
        "CAL3= float(input(\"Dame la calificación 3:\"))\n",
        "CAL4= float(input(\"Dame la calificación 4:\"))\n",
        "CAL5= float(input(\"Dame la calificación9 5:\"))\n",
        "PRO= (CAL1+CAL2+CAL3+CAL4+CAL5)/5\n",
        "print(PRO)"
      ],
      "execution_count": 32,
      "outputs": [
        {
          "output_type": "stream",
          "text": [
            "Dame tu matricula:756\n",
            "Dame la calificación 1:8\n",
            "Dame la calificación 2:8\n",
            "Dame la calificación 3:8\n",
            "Dame la calificación 4:9\n",
            "Dame la calificación9 5:9\n",
            "8.4\n"
          ],
          "name": "stdout"
        }
      ]
    },
    {
      "cell_type": "code",
      "metadata": {
        "colab": {
          "base_uri": "https://localhost:8080/"
        },
        "id": "pb-GVlWkxvLV",
        "outputId": "06bfe882-3e23-4bc5-930f-1b5ddec380a4"
      },
      "source": [
        "#Ejemplo 1.9\n",
        "NUM=0\n",
        "CUA=0\n",
        "CUB=0\n",
        "\n",
        "NUM=int(input(\"Dame un numero\"))\n",
        "CUA=NUM*NUM\n",
        "CUB=NUM**3\n",
        "print(CUA,CUB)"
      ],
      "execution_count": 26,
      "outputs": [
        {
          "output_type": "stream",
          "text": [
            "Dame un numero7\n",
            "49 343\n"
          ],
          "name": "stdout"
        }
      ]
    },
    {
      "cell_type": "code",
      "metadata": {
        "colab": {
          "base_uri": "https://localhost:8080/"
        },
        "id": "JVmYNdiczTm2",
        "outputId": "973e7ba6-6a4c-4adc-afdc-680035057a21"
      },
      "source": [
        "#Ejemplo 1.10\n",
        "BASE=0\n",
        "ALTU=0\n",
        "SUP=0\n",
        "PER=0\n",
        "\n",
        "BASE=int(input(\"Dame un numero:\"))\n",
        "ALTU=int(input(\"Dame un numero:\"))\n",
        "ARE=BASE*ALTU\n",
        "PER=2*(BASE+ALTU)\n",
        "print(ARE,PER)"
      ],
      "execution_count": 42,
      "outputs": [
        {
          "output_type": "stream",
          "text": [
            "Dame un numero:8\n",
            "Dame un numero:8\n",
            "64 32\n"
          ],
          "name": "stdout"
        }
      ]
    },
    {
      "cell_type": "code",
      "metadata": {
        "id": "f4WHeLun2BQs"
      },
      "source": [
        ""
      ],
      "execution_count": null,
      "outputs": []
    }
  ]
}